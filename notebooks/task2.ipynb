{
 "cells": [
  {
   "cell_type": "markdown",
   "metadata": {},
   "source": [
    "# Task 2"
   ]
  },
  {
   "cell_type": "markdown",
   "metadata": {},
   "source": [
    "## Import Libraries"
   ]
  },
  {
   "cell_type": "code",
   "execution_count": 1,
   "metadata": {},
   "outputs": [
    {
     "name": "stderr",
     "output_type": "stream",
     "text": [
      "c:\\Users\\danie\\OneDrive - Singapore Management University\\SMU Singapore\\Academics\\Aug 2024\\CS609_ReinforcementLearning\\Project\\LaneSwitchRL-Simulation\\.venv\\Lib\\site-packages\\tqdm\\auto.py:21: TqdmWarning: IProgress not found. Please update jupyter and ipywidgets. See https://ipywidgets.readthedocs.io/en/stable/user_install.html\n",
      "  from .autonotebook import tqdm as notebook_tqdm\n"
     ]
    }
   ],
   "source": [
    "import sys\n",
    "sys.path.append('../src')\n",
    "\n",
    "import matplotlib.pyplot as plt\n",
    "import numpy as np\n",
    "import logging\n",
    "import pandas as pd\n",
    "from tqdm import tqdm\n",
    "\n",
    "from environment_gym import TrafficEnvironment\n",
    "from task2_environment import CustomTrafficEnvironment\n",
    "from task2_agents import RuleBasedAgent, TemporalDifference"
   ]
  },
  {
   "cell_type": "markdown",
   "metadata": {},
   "source": [
    "## Rule-Based Agent"
   ]
  },
  {
   "cell_type": "markdown",
   "metadata": {},
   "source": [
    "### Evaluation"
   ]
  },
  {
   "cell_type": "code",
   "execution_count": 2,
   "metadata": {},
   "outputs": [],
   "source": [
    "def evaluate_agent(agent, env, num_episodes=10, starting_lane = 1):\n",
    "    all_episode_rewards = []\n",
    "    all_timesteps = []\n",
    "    truncated_count = 0\n",
    "\n",
    "    for episode in tqdm(range(num_episodes)):\n",
    "        episode_rewards = []\n",
    "        \n",
    "        options = {\n",
    "            'starting_lane': starting_lane\n",
    "        }\n",
    "        state, _ = env.reset(options=options)\n",
    "        terminated = False\n",
    "        truncated = False\n",
    "        cumulative_reward = 0\n",
    "        timestep = 0\n",
    "        action_mapping = {0: 'left', 1: 'stay', 2: 'right'}\n",
    "\n",
    "        while not terminated and not truncated:\n",
    "            action = agent.choose_action(state)\n",
    "            next_state, reward, terminated, truncated, _ = env.step(action)\n",
    "            cumulative_reward += reward\n",
    "            state = next_state\n",
    "            timestep += 1\n",
    "            \n",
    "            # Store rewards at each timestep for this episode\n",
    "            episode_rewards.append(cumulative_reward)\n",
    "\n",
    "            if truncated:\n",
    "                truncated_count += 1\n",
    "                break\n",
    "\n",
    "        # Append results for each episode\n",
    "        all_episode_rewards.append(cumulative_reward)\n",
    "        if not truncated:\n",
    "            all_timesteps.append(timestep)\n",
    "\n",
    "    print(f\"Truncated episodes: {truncated_count}\")\n",
    "    \n",
    "    return all_episode_rewards, all_timesteps\n",
    "\n",
    "def plot_eval_metrics(all_episode_rewards, all_timesteps, window_size=10):\n",
    "    \"\"\"\n",
    "    Plot cumulative rewards and timesteps to termination with a rolling mean.\n",
    "\n",
    "    Args:\n",
    "    - all_episode_rewards (list of lists): Cumulative rewards for each episode.\n",
    "    - all_timesteps (list): Number of timesteps to termination for each episode.\n",
    "    - window_size (int): Window size for rolling mean.\n",
    "    \"\"\"\n",
    "    # Compute rolling mean for cumulative rewards across episodes\n",
    "    rolling_rewards = pd.DataFrame(all_episode_rewards).mean(axis=0).rolling(window_size).mean()\n",
    "    # Compute rolling mean for timesteps to termination\n",
    "    rolling_timesteps = pd.Series(all_timesteps).rolling(window_size).mean()\n",
    "\n",
    "    # Plot the cumulative rewards with rolling mean\n",
    "    plt.figure(figsize=(12, 5))\n",
    "    plt.subplot(1, 2, 1)\n",
    "    plt.plot(rolling_rewards, label='Cumulative Reward (Rolling Mean)')\n",
    "    plt.xlabel('Timesteps')\n",
    "    plt.ylabel('Cumulative Reward')\n",
    "    plt.title(f'Cumulative Rewards Over Episodes (Rolling Mean - Window Size: {window_size})')\n",
    "    plt.legend()\n",
    "\n",
    "    # Plot the timesteps to termination with rolling mean\n",
    "    plt.subplot(1, 2, 2)\n",
    "    plt.plot(rolling_timesteps, label='Timesteps to Termination (Rolling Mean)')\n",
    "    plt.xlabel('Episode')\n",
    "    plt.ylabel('Timesteps')\n",
    "    plt.title(f'Timesteps to Termination (Rolling Mean - Window Size: {window_size})')\n",
    "    plt.legend()\n",
    "\n",
    "    plt.tight_layout()\n",
    "    plt.show()"
   ]
  },
  {
   "cell_type": "markdown",
   "metadata": {},
   "source": [
    "### Fastest Adjacent Lane"
   ]
  },
  {
   "cell_type": "code",
   "execution_count": 3,
   "metadata": {},
   "outputs": [
    {
     "name": "stderr",
     "output_type": "stream",
     "text": [
      "100%|██████████| 500/500 [00:16<00:00, 31.13it/s]"
     ]
    },
    {
     "name": "stdout",
     "output_type": "stream",
     "text": [
      "Truncated episodes: 303\n"
     ]
    },
    {
     "name": "stderr",
     "output_type": "stream",
     "text": [
      "\n"
     ]
    }
   ],
   "source": [
    "# Create the environment\n",
    "env = CustomTrafficEnvironment(max_time_steps=10000, logging_enabled=False)\n",
    "# Evaluate each strategy\n",
    "strategy = 'fastest_adjacent'\n",
    "rewards_dict = {}\n",
    "timesteps_dict = {}\n",
    "\n",
    "agent = RuleBasedAgent(strategy=strategy)\n",
    "# episode_rewards, checkpoint_rewards, timesteps_to_termination = evaluate_agent(agent, env)\n",
    "all_episode_rewards, all_timesteps = evaluate_agent(agent, env, num_episodes=500)\n",
    "rewards_dict['Fastest Adjacent Lane Agent'] = all_episode_rewards\n",
    "timesteps_dict['Fastest Adjacent Lane Agent'] = all_timesteps\n",
    "# env.logger.info(\"\\n\"*5)"
   ]
  },
  {
   "cell_type": "code",
   "execution_count": 4,
   "metadata": {},
   "outputs": [
    {
     "name": "stdout",
     "output_type": "stream",
     "text": [
      "Average cumulative rewards for Fastest Adjacent Lane strategy: -2883\n",
      "Average timesteps to termination for Fastest Adjacent Lane strategy: 229\n"
     ]
    }
   ],
   "source": [
    "print(f'Average cumulative rewards for Fastest Adjacent Lane strategy: {round(np.mean(rewards_dict['Fastest Adjacent Lane Agent']))}')\n",
    "print(f'Average timesteps to termination for Fastest Adjacent Lane strategy: {round(np.mean(timesteps_dict[\"Fastest Adjacent Lane Agent\"]))}')"
   ]
  },
  {
   "cell_type": "markdown",
   "metadata": {},
   "source": [
    "### Same Lane"
   ]
  },
  {
   "cell_type": "code",
   "execution_count": 5,
   "metadata": {},
   "outputs": [
    {
     "name": "stderr",
     "output_type": "stream",
     "text": [
      "100%|██████████| 500/500 [00:21<00:00, 23.70it/s]\n"
     ]
    },
    {
     "name": "stdout",
     "output_type": "stream",
     "text": [
      "Truncated episodes: 330\n"
     ]
    },
    {
     "name": "stderr",
     "output_type": "stream",
     "text": [
      "100%|██████████| 500/500 [00:21<00:00, 23.32it/s]\n"
     ]
    },
    {
     "name": "stdout",
     "output_type": "stream",
     "text": [
      "Truncated episodes: 340\n"
     ]
    },
    {
     "name": "stderr",
     "output_type": "stream",
     "text": [
      "100%|██████████| 500/500 [00:21<00:00, 22.78it/s]\n"
     ]
    },
    {
     "name": "stdout",
     "output_type": "stream",
     "text": [
      "Truncated episodes: 309\n"
     ]
    },
    {
     "name": "stderr",
     "output_type": "stream",
     "text": [
      "100%|██████████| 500/500 [00:21<00:00, 23.37it/s]\n"
     ]
    },
    {
     "name": "stdout",
     "output_type": "stream",
     "text": [
      "Truncated episodes: 331\n"
     ]
    },
    {
     "name": "stderr",
     "output_type": "stream",
     "text": [
      "100%|██████████| 500/500 [00:21<00:00, 23.04it/s]"
     ]
    },
    {
     "name": "stdout",
     "output_type": "stream",
     "text": [
      "Truncated episodes: 332\n"
     ]
    },
    {
     "name": "stderr",
     "output_type": "stream",
     "text": [
      "\n"
     ]
    }
   ],
   "source": [
    "# Create the environment\n",
    "env = CustomTrafficEnvironment(max_time_steps=10000, logging_enabled=False)\n",
    "\n",
    "for i in range(5):\n",
    "    env.logger.info(f\"Evaluating Agent {i+1}\")\n",
    "    agent = RuleBasedAgent(strategy='stay')\n",
    "    all_episode_rewards, all_timesteps = evaluate_agent(agent, env, num_episodes=500, starting_lane=i+1)\n",
    "    rewards_dict[f'Same Lane Agent {i+1}'] = all_episode_rewards\n",
    "    timesteps_dict[f'Same Lane Agent {i+1}'] = all_timesteps"
   ]
  },
  {
   "cell_type": "code",
   "execution_count": 6,
   "metadata": {},
   "outputs": [
    {
     "name": "stdout",
     "output_type": "stream",
     "text": [
      "Average cumulative rewards for Same Lane Agent 1: -3882\n",
      "Average timesteps to termination for Same Lane Agent 1: 296\n",
      "\n",
      "\n",
      "Average cumulative rewards for Same Lane Agent 2: -3755\n",
      "Average timesteps to termination for Same Lane Agent 2: 308\n",
      "\n",
      "\n",
      "Average cumulative rewards for Same Lane Agent 3: -3634\n",
      "Average timesteps to termination for Same Lane Agent 3: 318\n",
      "\n",
      "\n",
      "Average cumulative rewards for Same Lane Agent 4: -3621\n",
      "Average timesteps to termination for Same Lane Agent 4: 306\n",
      "\n",
      "\n",
      "Average cumulative rewards for Same Lane Agent 5: -4074\n",
      "Average timesteps to termination for Same Lane Agent 5: 322\n",
      "\n",
      "\n"
     ]
    }
   ],
   "source": [
    "for i in range(5):\n",
    "    print(f'Average cumulative rewards for Same Lane Agent {i+1}: {round(np.mean(rewards_dict[f\"Same Lane Agent {i+1}\"]))}')\n",
    "    print(f'Average timesteps to termination for Same Lane Agent {i+1}: {round(np.mean(timesteps_dict[f\"Same Lane Agent {i+1}\"]))}')\n",
    "    print('\\n')"
   ]
  },
  {
   "cell_type": "markdown",
   "metadata": {},
   "source": [
    "## Value-based Agent"
   ]
  },
  {
   "cell_type": "markdown",
   "metadata": {},
   "source": [
    "### TD-Lambda"
   ]
  },
  {
   "cell_type": "markdown",
   "metadata": {},
   "source": [
    "Best Parameters: 'alpha': 0.00034730495205915015, 'gamma': 0.8736754469200055, 'epsilon_decay': 0.9974883518154749, 'epsilon_min': 0.07171493690427357, 'lambd': 0.9979639828730743"
   ]
  },
  {
   "cell_type": "markdown",
   "metadata": {},
   "source": [
    "{'alpha': 0.0006007024756734379, 'gamma': 0.3562072501879241, 'epsilon_decay': 0.9575282722270251, 'epsilon_min': 0.035559819115941076, 'lambd': 0.24904922861472512}"
   ]
  },
  {
   "cell_type": "code",
   "execution_count": 3,
   "metadata": {},
   "outputs": [
    {
     "name": "stderr",
     "output_type": "stream",
     "text": [
      "100%|██████████| 500/500 [00:34<00:00, 14.63it/s]\n"
     ]
    },
    {
     "name": "stdout",
     "output_type": "stream",
     "text": [
      "Training statistics saved to ./logs/task2/training_logs.json\n",
      "Truncated episodes: 417\n",
      "Sum of total rewards = -1642415.4999999995\n",
      "Average total reward per episode = -3284.8309999999997\n",
      "Average steps per episode = 238.59036144578315\n"
     ]
    },
    {
     "data": {
      "image/png": "[encoded data removed]",
      "text/plain": [
       "<Figure size 1500x500 with 2 Axes>"
      ]
     },
     "metadata": {},
     "output_type": "display_data"
    }
   ],
   "source": [
    "# Create the environment\n",
    "env = CustomTrafficEnvironment(max_time_steps=10000, logging_enabled=False)\n",
    "\n",
    "td_lambda = TemporalDifference(env, oiv = 0.1, alpha=1e-4, epsilon=1.0, lambd=0, gamma=0.5, epsilon_decay=0.9575, epsilon_min=0.1)\n",
    "total_reward_list, total_steps_list = td_lambda.train(num_episodes = 500, on_policy = False, save_model = False)\n",
    "total_rew = sum(total_reward_list)\n",
    "avg_rew = np.mean(total_reward_list)\n",
    "avg_steps = np.mean(total_steps_list)\n",
    "\n",
    "print(f'Sum of total rewards = {total_rew}')\n",
    "print(f'Average total reward per episode = {avg_rew}')\n",
    "print(f'Average steps per episode = {avg_steps}')\n",
    "\n",
    "# plot training metrics\n",
    "td_lambda.plot_training_metrics(window_size=50)\n",
    "plt.show()"
   ]
  },
  {
   "cell_type": "markdown",
   "metadata": {},
   "source": [
    "### Analysis"
   ]
  },
  {
   "cell_type": "code",
   "execution_count": 4,
   "metadata": {},
   "outputs": [
    {
     "name": "stdout",
     "output_type": "stream",
     "text": [
      "1224\n"
     ]
    }
   ],
   "source": [
    "print(len(td_lambda.Q))"
   ]
  },
  {
   "cell_type": "markdown",
   "metadata": {},
   "source": [
    "State Space Size = 5 x 5 x 5 (Clearance Rates) x 5 (Risk Factor) x 2 (Over Speed Limit) x 3 (Actions) = 3,750"
   ]
  },
  {
   "cell_type": "code",
   "execution_count": 11,
   "metadata": {},
   "outputs": [
    {
     "data": {
      "text/plain": [
       "3750"
      ]
     },
     "execution_count": 11,
     "metadata": {},
     "output_type": "execute_result"
    }
   ],
   "source": [
    "5*5*5*5*2*3"
   ]
  },
  {
   "cell_type": "code",
   "execution_count": 5,
   "metadata": {},
   "outputs": [
    {
     "name": "stderr",
     "output_type": "stream",
     "text": [
      "c:\\Users\\danie\\OneDrive - Singapore Management University\\SMU Singapore\\Academics\\Aug 2024\\CS609_ReinforcementLearning\\Project\\LaneSwitchRL-Simulation\\notebooks\\../src\\task2_agents.py:415: SettingWithCopyWarning: \n",
      "A value is trying to be set on a copy of a slice from a DataFrame.\n",
      "Try using .loc[row_indexer,col_indexer] = value instead\n",
      "\n",
      "See the caveats in the documentation: https://pandas.pydata.org/pandas-docs/stable/user_guide/indexing.html#returning-a-view-versus-a-copy\n",
      "  high_risk_df['Highest Q-value Action'] = high_risk_df[['Left', 'Stay', 'Right']].idxmax(axis=1)\n"
     ]
    }
   ],
   "source": [
    "# Run the analyses\n",
    "lane_speed_preference_results, high_risk_mismatch_percentage, low_risk_mismatch_percentage = td_lambda.analyze_lane_speed_preference()\n",
    "risk_factor_stay_preference_results = td_lambda.analyze_risk_factor_stay_preference()"
   ]
  },
  {
   "cell_type": "code",
   "execution_count": 6,
   "metadata": {},
   "outputs": [
    {
     "name": "stdout",
     "output_type": "stream",
     "text": [
      "\n",
      "Percentage of mismatches in high-risk cases: 44.31%\n",
      "Percentage of mismatches in low-risk cases: 55.04%\n"
     ]
    }
   ],
   "source": [
    "print(f\"\\nPercentage of mismatches in high-risk cases: {high_risk_mismatch_percentage:.2f}%\")\n",
    "print(f\"Percentage of mismatches in low-risk cases: {low_risk_mismatch_percentage:.2f}%\")"
   ]
  },
  {
   "cell_type": "code",
   "execution_count": 7,
   "metadata": {},
   "outputs": [
    {
     "name": "stdout",
     "output_type": "stream",
     "text": [
      "\n",
      "Risk Factor and Stay Preference Analysis:\n"
     ]
    },
    {
     "data": {
      "text/plain": [
       "{'Total High Risk Cases': 510,\n",
       " 'Stay Preference in High Risk': np.int64(278),\n",
       " 'Stay Preference Percentage': np.float64(54.509803921568626)}"
      ]
     },
     "execution_count": 7,
     "metadata": {},
     "output_type": "execute_result"
    }
   ],
   "source": [
    "print(\"\\nRisk Factor and Stay Preference Analysis:\")\n",
    "risk_factor_stay_preference_results"
   ]
  },
  {
   "cell_type": "code",
   "execution_count": 8,
   "metadata": {},
   "outputs": [
    {
     "data": {
      "text/html": [
       "<div>\n",
       "<style scoped>\n",
       "    .dataframe tbody tr th:only-of-type {\n",
       "        vertical-align: middle;\n",
       "    }\n",
       "\n",
       "    .dataframe tbody tr th {\n",
       "        vertical-align: top;\n",
       "    }\n",
       "\n",
       "    .dataframe thead th {\n",
       "        text-align: right;\n",
       "    }\n",
       "</style>\n",
       "<table border=\"1\" class=\"dataframe\">\n",
       "  <thead>\n",
       "    <tr style=\"text-align: right;\">\n",
       "      <th></th>\n",
       "      <th>Current Lane Rate</th>\n",
       "      <th>Left Lane Rate</th>\n",
       "      <th>Right Lane Rate</th>\n",
       "      <th>Risk Factor</th>\n",
       "      <th>Over Speed Limit</th>\n",
       "      <th>Left</th>\n",
       "      <th>Stay</th>\n",
       "      <th>Right</th>\n",
       "    </tr>\n",
       "  </thead>\n",
       "  <tbody>\n",
       "    <tr>\n",
       "      <th>0</th>\n",
       "      <td>4</td>\n",
       "      <td>0</td>\n",
       "      <td>4</td>\n",
       "      <td>0</td>\n",
       "      <td>0</td>\n",
       "      <td>0.124066</td>\n",
       "      <td>0.138911</td>\n",
       "      <td>0.835365</td>\n",
       "    </tr>\n",
       "    <tr>\n",
       "      <th>1</th>\n",
       "      <td>4</td>\n",
       "      <td>4</td>\n",
       "      <td>4</td>\n",
       "      <td>0</td>\n",
       "      <td>0</td>\n",
       "      <td>0.123921</td>\n",
       "      <td>1.376159</td>\n",
       "      <td>0.143315</td>\n",
       "    </tr>\n",
       "    <tr>\n",
       "      <th>2</th>\n",
       "      <td>4</td>\n",
       "      <td>3</td>\n",
       "      <td>4</td>\n",
       "      <td>0</td>\n",
       "      <td>0</td>\n",
       "      <td>0.103490</td>\n",
       "      <td>0.112783</td>\n",
       "      <td>0.274947</td>\n",
       "    </tr>\n",
       "    <tr>\n",
       "      <th>3</th>\n",
       "      <td>4</td>\n",
       "      <td>2</td>\n",
       "      <td>4</td>\n",
       "      <td>0</td>\n",
       "      <td>0</td>\n",
       "      <td>0.104946</td>\n",
       "      <td>0.241181</td>\n",
       "      <td>0.101877</td>\n",
       "    </tr>\n",
       "    <tr>\n",
       "      <th>4</th>\n",
       "      <td>3</td>\n",
       "      <td>2</td>\n",
       "      <td>3</td>\n",
       "      <td>0</td>\n",
       "      <td>0</td>\n",
       "      <td>0.101626</td>\n",
       "      <td>0.100000</td>\n",
       "      <td>0.184316</td>\n",
       "    </tr>\n",
       "  </tbody>\n",
       "</table>\n",
       "</div>"
      ],
      "text/plain": [
       "   Current Lane Rate  Left Lane Rate  Right Lane Rate  Risk Factor  \\\n",
       "0                  4               0                4            0   \n",
       "1                  4               4                4            0   \n",
       "2                  4               3                4            0   \n",
       "3                  4               2                4            0   \n",
       "4                  3               2                3            0   \n",
       "\n",
       "   Over Speed Limit      Left      Stay     Right  \n",
       "0                 0  0.124066  0.138911  0.835365  \n",
       "1                 0  0.123921  1.376159  0.143315  \n",
       "2                 0  0.103490  0.112783  0.274947  \n",
       "3                 0  0.104946  0.241181  0.101877  \n",
       "4                 0  0.101626  0.100000  0.184316  "
      ]
     },
     "execution_count": 8,
     "metadata": {},
     "output_type": "execute_result"
    }
   ],
   "source": [
    "q_df = td_lambda.q_table_to_dataframe()\n",
    "q_df.head()"
   ]
  },
  {
   "cell_type": "code",
   "execution_count": null,
   "metadata": {},
   "outputs": [
    {
     "data": {
      "text/plain": [
       "1224"
      ]
     },
     "execution_count": 18,
     "metadata": {},
     "output_type": "execute_result"
    }
   ],
   "source": [
    "q_df.loc[q_df['left']]"
   ]
  },
  {
   "cell_type": "code",
   "execution_count": 22,
   "metadata": {},
   "outputs": [
    {
     "name": "stdout",
     "output_type": "stream",
     "text": [
      "['Current', 'Left', 'Right']\n",
      "None\n"
     ]
    }
   ],
   "source": [
    "lanes = ['Current', 'Left', 'Right']\n",
    "print(lanes)\n",
    "other_lanes = lanes.copy().remove('Current')\n",
    "print(other_lanes)"
   ]
  },
  {
   "cell_type": "code",
   "execution_count": 17,
   "metadata": {},
   "outputs": [
    {
     "ename": "TypeError",
     "evalue": "'NoneType' object is not subscriptable",
     "output_type": "error",
     "traceback": [
      "\u001b[1;31m---------------------------------------------------------------------------\u001b[0m",
      "\u001b[1;31mTypeError\u001b[0m                                 Traceback (most recent call last)",
      "Cell \u001b[1;32mIn[17], line 4\u001b[0m\n\u001b[0;32m      2\u001b[0m \u001b[38;5;28;01mfor\u001b[39;00m fast_lane \u001b[38;5;129;01min\u001b[39;00m lanes:\n\u001b[0;32m      3\u001b[0m     other_lanes \u001b[38;5;241m=\u001b[39m lanes\u001b[38;5;241m.\u001b[39mcopy()\u001b[38;5;241m.\u001b[39mremove(fast_lane)\n\u001b[1;32m----> 4\u001b[0m     total \u001b[38;5;241m=\u001b[39m q_df\u001b[38;5;241m.\u001b[39mloc[((q_df[\u001b[38;5;124mf\u001b[39m\u001b[38;5;124m'\u001b[39m\u001b[38;5;132;01m{\u001b[39;00mfast_lane\u001b[38;5;132;01m}\u001b[39;00m\u001b[38;5;124m Lane Rate\u001b[39m\u001b[38;5;124m'\u001b[39m] \u001b[38;5;241m<\u001b[39m q_df[\u001b[38;5;124mf\u001b[39m\u001b[38;5;124m'\u001b[39m\u001b[38;5;132;01m{\u001b[39;00m\u001b[43mother_lanes\u001b[49m\u001b[43m[\u001b[49m\u001b[38;5;241;43m0\u001b[39;49m\u001b[43m]\u001b[49m\u001b[38;5;132;01m}\u001b[39;00m\u001b[38;5;124m Lane Rate\u001b[39m\u001b[38;5;124m'\u001b[39m]) \u001b[38;5;241m&\u001b[39m (q_df[\u001b[38;5;124mf\u001b[39m\u001b[38;5;124m'\u001b[39m\u001b[38;5;132;01m{\u001b[39;00mfast_lane\u001b[38;5;132;01m}\u001b[39;00m\u001b[38;5;124m Lane Rate\u001b[39m\u001b[38;5;124m'\u001b[39m] \u001b[38;5;241m<\u001b[39m q_df[\u001b[38;5;124mf\u001b[39m\u001b[38;5;124m'\u001b[39m\u001b[38;5;132;01m{\u001b[39;00mother_lanes[\u001b[38;5;241m1\u001b[39m]\u001b[38;5;132;01m}\u001b[39;00m\u001b[38;5;124m Lane Rate\u001b[39m\u001b[38;5;124m'\u001b[39m])) \u001b[38;5;241m&\u001b[39m (q_df[\u001b[38;5;124m'\u001b[39m\u001b[38;5;124mRisk Factor\u001b[39m\u001b[38;5;124m'\u001b[39m] \u001b[38;5;241m<\u001b[39m \u001b[38;5;241m5\u001b[39m)]\u001b[38;5;241m.\u001b[39mshape[\u001b[38;5;241m0\u001b[39m]\n\u001b[0;32m      5\u001b[0m     rate \u001b[38;5;241m=\u001b[39m q_df\u001b[38;5;241m.\u001b[39mloc[((q_df[\u001b[38;5;124mf\u001b[39m\u001b[38;5;124m'\u001b[39m\u001b[38;5;132;01m{\u001b[39;00mfast_lane\u001b[38;5;132;01m}\u001b[39;00m\u001b[38;5;124m Lane Rate\u001b[39m\u001b[38;5;124m'\u001b[39m] \u001b[38;5;241m<\u001b[39m q_df[\u001b[38;5;124mf\u001b[39m\u001b[38;5;124m'\u001b[39m\u001b[38;5;132;01m{\u001b[39;00mother_lanes[\u001b[38;5;241m0\u001b[39m]\u001b[38;5;132;01m}\u001b[39;00m\u001b[38;5;124m Lane Rate\u001b[39m\u001b[38;5;124m'\u001b[39m]) \u001b[38;5;241m&\u001b[39m (q_df[\u001b[38;5;124mf\u001b[39m\u001b[38;5;124m'\u001b[39m\u001b[38;5;132;01m{\u001b[39;00mfast_lane\u001b[38;5;132;01m}\u001b[39;00m\u001b[38;5;124m Lane Rate\u001b[39m\u001b[38;5;124m'\u001b[39m] \u001b[38;5;241m<\u001b[39m q_df[\u001b[38;5;124mf\u001b[39m\u001b[38;5;124m'\u001b[39m\u001b[38;5;132;01m{\u001b[39;00mother_lanes[\u001b[38;5;241m1\u001b[39m]\u001b[38;5;132;01m}\u001b[39;00m\u001b[38;5;124m Lane Rate\u001b[39m\u001b[38;5;124m'\u001b[39m])) \u001b[38;5;241m&\u001b[39m (q_df[\u001b[38;5;124m'\u001b[39m\u001b[38;5;124mRisk Factor\u001b[39m\u001b[38;5;124m'\u001b[39m] \u001b[38;5;241m<\u001b[39m \u001b[38;5;241m5\u001b[39m) \\\n\u001b[0;32m      6\u001b[0m     \u001b[38;5;241m&\u001b[39m ((q_df[\u001b[38;5;124mf\u001b[39m\u001b[38;5;124m'\u001b[39m\u001b[38;5;132;01m{\u001b[39;00mfast_lane\u001b[38;5;250m \u001b[39m\u001b[38;5;28;01mif\u001b[39;00m\u001b[38;5;250m \u001b[39mfast_lane\u001b[38;5;250m \u001b[39m\u001b[38;5;241m!=\u001b[39m\u001b[38;5;250m \u001b[39m\u001b[38;5;124m'\u001b[39m\u001b[38;5;124mCurrent\u001b[39m\u001b[38;5;124m'\u001b[39m\u001b[38;5;250m \u001b[39m\u001b[38;5;28;01melse\u001b[39;00m\u001b[38;5;250m \u001b[39m\u001b[38;5;124m'\u001b[39m\u001b[38;5;124mStay\u001b[39m\u001b[38;5;124m'\u001b[39m\u001b[38;5;132;01m}\u001b[39;00m\u001b[38;5;124m'\u001b[39m] \u001b[38;5;241m>\u001b[39m q_df[\u001b[38;5;124mf\u001b[39m\u001b[38;5;124m'\u001b[39m\u001b[38;5;132;01m{\u001b[39;00mother_lanes[\u001b[38;5;241m0\u001b[39m]\u001b[38;5;250m \u001b[39m\u001b[38;5;28;01mif\u001b[39;00m\u001b[38;5;250m \u001b[39mother_lanes[\u001b[38;5;241m0\u001b[39m]\u001b[38;5;250m \u001b[39m\u001b[38;5;241m!=\u001b[39m\u001b[38;5;250m \u001b[39m\u001b[38;5;124m'\u001b[39m\u001b[38;5;124mCurrent\u001b[39m\u001b[38;5;124m'\u001b[39m\u001b[38;5;250m \u001b[39m\u001b[38;5;28;01melse\u001b[39;00m\u001b[38;5;250m \u001b[39m\u001b[38;5;124m'\u001b[39m\u001b[38;5;124mStay\u001b[39m\u001b[38;5;124m'\u001b[39m\u001b[38;5;132;01m}\u001b[39;00m\u001b[38;5;124m'\u001b[39m]) \\\n\u001b[0;32m      7\u001b[0m         \u001b[38;5;241m&\u001b[39m (q_df[\u001b[38;5;124mf\u001b[39m\u001b[38;5;124m'\u001b[39m\u001b[38;5;132;01m{\u001b[39;00mfast_lane\u001b[38;5;250m \u001b[39m\u001b[38;5;28;01mif\u001b[39;00m\u001b[38;5;250m \u001b[39mfast_lane\u001b[38;5;250m \u001b[39m\u001b[38;5;241m!=\u001b[39m\u001b[38;5;250m \u001b[39m\u001b[38;5;124m'\u001b[39m\u001b[38;5;124mCurrent\u001b[39m\u001b[38;5;124m'\u001b[39m\u001b[38;5;250m \u001b[39m\u001b[38;5;28;01melse\u001b[39;00m\u001b[38;5;250m \u001b[39m\u001b[38;5;124m'\u001b[39m\u001b[38;5;124mStay\u001b[39m\u001b[38;5;124m'\u001b[39m\u001b[38;5;132;01m}\u001b[39;00m\u001b[38;5;124m'\u001b[39m] \u001b[38;5;241m>\u001b[39m q_df[\u001b[38;5;124mf\u001b[39m\u001b[38;5;124m'\u001b[39m\u001b[38;5;132;01m{\u001b[39;00mother_lanes[\u001b[38;5;241m1\u001b[39m]\u001b[38;5;250m \u001b[39m\u001b[38;5;28;01mif\u001b[39;00m\u001b[38;5;250m \u001b[39mother_lanes[\u001b[38;5;241m1\u001b[39m]\u001b[38;5;250m \u001b[39m\u001b[38;5;241m!=\u001b[39m\u001b[38;5;250m \u001b[39m\u001b[38;5;124m'\u001b[39m\u001b[38;5;124mCurrent\u001b[39m\u001b[38;5;124m'\u001b[39m\u001b[38;5;250m \u001b[39m\u001b[38;5;28;01melse\u001b[39;00m\u001b[38;5;250m \u001b[39m\u001b[38;5;124m'\u001b[39m\u001b[38;5;124mStay\u001b[39m\u001b[38;5;124m'\u001b[39m\u001b[38;5;132;01m}\u001b[39;00m\u001b[38;5;124m'\u001b[39m]))]\u001b[38;5;241m.\u001b[39mshape[\u001b[38;5;241m0\u001b[39m]\n\u001b[0;32m      8\u001b[0m     rate \u001b[38;5;241m=\u001b[39m rate\u001b[38;5;241m/\u001b[39mq_df\u001b[38;5;241m.\u001b[39mshape[\u001b[38;5;241m0\u001b[39m]\n",
      "\u001b[1;31mTypeError\u001b[0m: 'NoneType' object is not subscriptable"
     ]
    }
   ],
   "source": [
    "lanes = ['Current', 'Left', 'Right']\n",
    "for fast_lane in lanes:\n",
    "    other_lanes = lanes.copy().remove(fast_lane)\n",
    "    total = q_df.loc[((q_df[f'{fast_lane} Lane Rate'] < q_df[f'{other_lanes[0]} Lane Rate']) & (q_df[f'{fast_lane} Lane Rate'] < q_df[f'{other_lanes[1]} Lane Rate'])) & (q_df['Risk Factor'] < 5)].shape[0]\n",
    "    rate = q_df.loc[((q_df[f'{fast_lane} Lane Rate'] < q_df[f'{other_lanes[0]} Lane Rate']) & (q_df[f'{fast_lane} Lane Rate'] < q_df[f'{other_lanes[1]} Lane Rate'])) & (q_df['Risk Factor'] < 5) \\\n",
    "    & ((q_df[f'{fast_lane if fast_lane != 'Current' else 'Stay'}'] > q_df[f'{other_lanes[0] if other_lanes[0] != 'Current' else 'Stay'}']) \\\n",
    "        & (q_df[f'{fast_lane if fast_lane != 'Current' else 'Stay'}'] > q_df[f'{other_lanes[1] if other_lanes[1] != 'Current' else 'Stay'}']))].shape[0]\n",
    "    rate = rate/q_df.shape[0]\n",
    "    print(f\"Number of cases where the {fast_lane} lane has the highest value for low risk: {rate}\")"
   ]
  },
  {
   "cell_type": "markdown",
   "metadata": {},
   "source": [
    "### Evaluation"
   ]
  },
  {
   "cell_type": "code",
   "execution_count": 19,
   "metadata": {},
   "outputs": [],
   "source": [
    "td_lambda.Env.enable_logging()"
   ]
  },
  {
   "cell_type": "code",
   "execution_count": 5,
   "metadata": {},
   "outputs": [
    {
     "name": "stderr",
     "output_type": "stream",
     "text": [
      "100%|██████████| 500/500 [00:32<00:00, 15.35it/s]"
     ]
    },
    {
     "name": "stdout",
     "output_type": "stream",
     "text": [
      "Training statistics saved to ./logs/task2/training_logs.json\n",
      "Average cumulative rewards for TD-Lambda Agent: -3759\n",
      "Average timesteps to termination for TD-Lambda Agent: 148\n"
     ]
    },
    {
     "name": "stderr",
     "output_type": "stream",
     "text": [
      "\n"
     ]
    }
   ],
   "source": [
    "# Evaluate the agent in inference mode\n",
    "all_rewards, all_steps = td_lambda.evaluate(num_episodes=500)\n",
    "\n",
    "# Print the results\n",
    "print(f\"Average cumulative rewards for TD-Lambda Agent: {round(np.mean(all_rewards))}\")\n",
    "print(f\"Average timesteps to termination for TD-Lambda Agent: {round(np.mean(all_steps))}\")"
   ]
  },
  {
   "cell_type": "code",
   "execution_count": 9,
   "metadata": {},
   "outputs": [],
   "source": [
    "td_lambda.Env.disable_logging()"
   ]
  },
  {
   "cell_type": "code",
   "execution_count": 6,
   "metadata": {},
   "outputs": [
    {
     "name": "stdout",
     "output_type": "stream",
     "text": [
      "Average cumulative rewards for TD-Lambda Agent: -4913\n",
      "Average timesteps to termination for TD-Lambda Agent: 184\n"
     ]
    }
   ],
   "source": [
    "print(f\"Average cumulative rewards for TD-Lambda Agent: {round(np.mean(all_rewards))}\")\n",
    "print(f\"Average timesteps to termination for TD-Lambda Agent: {round(np.mean(all_steps))}\")"
   ]
  },
  {
   "cell_type": "markdown",
   "metadata": {},
   "source": [
    "### Hyperparameter Tuning"
   ]
  },
  {
   "cell_type": "code",
   "execution_count": 8,
   "metadata": {},
   "outputs": [
    {
     "name": "stderr",
     "output_type": "stream",
     "text": [
      "[I 2024-11-05 01:53:08,568] A new study created in memory with name: no-name-6982d27d-ca3c-4d80-b920-b219700b9f93\n",
      "100%|██████████| 500/500 [11:49<00:00,  1.42s/it]\n",
      "[W 2024-11-05 02:04:58,385] Trial 0 failed with parameters: {'alpha': 0.0005604090760077114, 'gamma': 0.580588604955087, 'epsilon_decay': 0.9112669188092877, 'epsilon_min': 0.09757174374127979, 'lambd': 0.009376513888873728} because of the following error: ValueError('setting an array element with a sequence. The requested array has an inhomogeneous shape after 1 dimensions. The detected shape was (2,) + inhomogeneous part.').\n",
      "Traceback (most recent call last):\n",
      "  File \"c:\\Users\\danie\\OneDrive - Singapore Management University\\SMU Singapore\\Academics\\Aug 2024\\CS609_ReinforcementLearning\\Project\\LaneSwitchRL-Simulation\\.venv\\Lib\\site-packages\\optuna\\study\\_optimize.py\", line 197, in _run_trial\n",
      "    value_or_values = func(trial)\n",
      "                      ^^^^^^^^^^^\n",
      "  File \"c:\\Users\\danie\\OneDrive - Singapore Management University\\SMU Singapore\\Academics\\Aug 2024\\CS609_ReinforcementLearning\\Project\\LaneSwitchRL-Simulation\\notebooks\\../src\\task2_agents.py\", line 561, in objective\n",
      "    average_reward = np.mean(rewards[-500:])\n",
      "                     ^^^^^^^^^^^^^^^^^^^^^^^\n",
      "  File \"c:\\Users\\danie\\OneDrive - Singapore Management University\\SMU Singapore\\Academics\\Aug 2024\\CS609_ReinforcementLearning\\Project\\LaneSwitchRL-Simulation\\.venv\\Lib\\site-packages\\numpy\\_core\\fromnumeric.py\", line 3904, in mean\n",
      "    return _methods._mean(a, axis=axis, dtype=dtype,\n",
      "           ^^^^^^^^^^^^^^^^^^^^^^^^^^^^^^^^^^^^^^^^^\n",
      "  File \"c:\\Users\\danie\\OneDrive - Singapore Management University\\SMU Singapore\\Academics\\Aug 2024\\CS609_ReinforcementLearning\\Project\\LaneSwitchRL-Simulation\\.venv\\Lib\\site-packages\\numpy\\_core\\_methods.py\", line 120, in _mean\n",
      "    arr = asanyarray(a)\n",
      "          ^^^^^^^^^^^^^\n",
      "ValueError: setting an array element with a sequence. The requested array has an inhomogeneous shape after 1 dimensions. The detected shape was (2,) + inhomogeneous part.\n",
      "[W 2024-11-05 02:04:58,437] Trial 0 failed with value None.\n"
     ]
    },
    {
     "name": "stdout",
     "output_type": "stream",
     "text": [
      "Training statistics saved to ./logs/task2/training_logs.json\n",
      "Truncated episodes: 410\n"
     ]
    },
    {
     "ename": "ValueError",
     "evalue": "setting an array element with a sequence. The requested array has an inhomogeneous shape after 1 dimensions. The detected shape was (2,) + inhomogeneous part.",
     "output_type": "error",
     "traceback": [
      "\u001b[1;31m---------------------------------------------------------------------------\u001b[0m",
      "\u001b[1;31mValueError\u001b[0m                                Traceback (most recent call last)",
      "Cell \u001b[1;32mIn[8], line 11\u001b[0m\n\u001b[0;32m      9\u001b[0m td_lambda \u001b[38;5;241m=\u001b[39m TemporalDifference(env)\n\u001b[0;32m     10\u001b[0m \u001b[38;5;66;03m# Run hyperparameter tuning\u001b[39;00m\n\u001b[1;32m---> 11\u001b[0m best_agent, best_params \u001b[38;5;241m=\u001b[39m \u001b[43mtd_lambda\u001b[49m\u001b[38;5;241;43m.\u001b[39;49m\u001b[43mhyperparameter_tuning\u001b[49m\u001b[43m(\u001b[49m\u001b[43mhyperparameter_space\u001b[49m\u001b[38;5;241;43m=\u001b[39;49m\u001b[43mhyperparameter_space\u001b[49m\u001b[43m,\u001b[49m\u001b[43m \u001b[49m\u001b[43mepisodes\u001b[49m\u001b[38;5;241;43m=\u001b[39;49m\u001b[38;5;241;43m500\u001b[39;49m\u001b[43m,\u001b[49m\u001b[43m \u001b[49m\u001b[43mn_trials\u001b[49m\u001b[38;5;241;43m=\u001b[39;49m\u001b[38;5;241;43m30\u001b[39;49m\u001b[43m,\u001b[49m\u001b[43m \u001b[49m\u001b[43mon_policy\u001b[49m\u001b[38;5;241;43m=\u001b[39;49m\u001b[38;5;28;43;01mFalse\u001b[39;49;00m\u001b[43m)\u001b[49m\n",
      "File \u001b[1;32mc:\\Users\\danie\\OneDrive - Singapore Management University\\SMU Singapore\\Academics\\Aug 2024\\CS609_ReinforcementLearning\\Project\\LaneSwitchRL-Simulation\\notebooks\\../src\\task2_agents.py:568\u001b[0m, in \u001b[0;36mTemporalDifference.hyperparameter_tuning\u001b[1;34m(self, hyperparameter_space, episodes, on_policy, n_trials)\u001b[0m\n\u001b[0;32m    566\u001b[0m \u001b[38;5;66;03m# Create a study and optimize the objective function\u001b[39;00m\n\u001b[0;32m    567\u001b[0m study \u001b[38;5;241m=\u001b[39m optuna\u001b[38;5;241m.\u001b[39mcreate_study(direction\u001b[38;5;241m=\u001b[39m\u001b[38;5;124m\"\u001b[39m\u001b[38;5;124mmaximize\u001b[39m\u001b[38;5;124m\"\u001b[39m)\n\u001b[1;32m--> 568\u001b[0m \u001b[43mstudy\u001b[49m\u001b[38;5;241;43m.\u001b[39;49m\u001b[43moptimize\u001b[49m\u001b[43m(\u001b[49m\u001b[43mobjective\u001b[49m\u001b[43m,\u001b[49m\u001b[43m \u001b[49m\u001b[43mn_trials\u001b[49m\u001b[38;5;241;43m=\u001b[39;49m\u001b[43mn_trials\u001b[49m\u001b[43m)\u001b[49m\n\u001b[0;32m    570\u001b[0m \u001b[38;5;66;03m# Retrieve the best hyperparameters and best average reward\u001b[39;00m\n\u001b[0;32m    571\u001b[0m best_params \u001b[38;5;241m=\u001b[39m study\u001b[38;5;241m.\u001b[39mbest_params\n",
      "File \u001b[1;32mc:\\Users\\danie\\OneDrive - Singapore Management University\\SMU Singapore\\Academics\\Aug 2024\\CS609_ReinforcementLearning\\Project\\LaneSwitchRL-Simulation\\.venv\\Lib\\site-packages\\optuna\\study\\study.py:475\u001b[0m, in \u001b[0;36mStudy.optimize\u001b[1;34m(self, func, n_trials, timeout, n_jobs, catch, callbacks, gc_after_trial, show_progress_bar)\u001b[0m\n\u001b[0;32m    373\u001b[0m \u001b[38;5;28;01mdef\u001b[39;00m \u001b[38;5;21moptimize\u001b[39m(\n\u001b[0;32m    374\u001b[0m     \u001b[38;5;28mself\u001b[39m,\n\u001b[0;32m    375\u001b[0m     func: ObjectiveFuncType,\n\u001b[1;32m   (...)\u001b[0m\n\u001b[0;32m    382\u001b[0m     show_progress_bar: \u001b[38;5;28mbool\u001b[39m \u001b[38;5;241m=\u001b[39m \u001b[38;5;28;01mFalse\u001b[39;00m,\n\u001b[0;32m    383\u001b[0m ) \u001b[38;5;241m-\u001b[39m\u001b[38;5;241m>\u001b[39m \u001b[38;5;28;01mNone\u001b[39;00m:\n\u001b[0;32m    384\u001b[0m \u001b[38;5;250m    \u001b[39m\u001b[38;5;124;03m\"\"\"Optimize an objective function.\u001b[39;00m\n\u001b[0;32m    385\u001b[0m \n\u001b[0;32m    386\u001b[0m \u001b[38;5;124;03m    Optimization is done by choosing a suitable set of hyperparameter values from a given\u001b[39;00m\n\u001b[1;32m   (...)\u001b[0m\n\u001b[0;32m    473\u001b[0m \u001b[38;5;124;03m            If nested invocation of this method occurs.\u001b[39;00m\n\u001b[0;32m    474\u001b[0m \u001b[38;5;124;03m    \"\"\"\u001b[39;00m\n\u001b[1;32m--> 475\u001b[0m     \u001b[43m_optimize\u001b[49m\u001b[43m(\u001b[49m\n\u001b[0;32m    476\u001b[0m \u001b[43m        \u001b[49m\u001b[43mstudy\u001b[49m\u001b[38;5;241;43m=\u001b[39;49m\u001b[38;5;28;43mself\u001b[39;49m\u001b[43m,\u001b[49m\n\u001b[0;32m    477\u001b[0m \u001b[43m        \u001b[49m\u001b[43mfunc\u001b[49m\u001b[38;5;241;43m=\u001b[39;49m\u001b[43mfunc\u001b[49m\u001b[43m,\u001b[49m\n\u001b[0;32m    478\u001b[0m \u001b[43m        \u001b[49m\u001b[43mn_trials\u001b[49m\u001b[38;5;241;43m=\u001b[39;49m\u001b[43mn_trials\u001b[49m\u001b[43m,\u001b[49m\n\u001b[0;32m    479\u001b[0m \u001b[43m        \u001b[49m\u001b[43mtimeout\u001b[49m\u001b[38;5;241;43m=\u001b[39;49m\u001b[43mtimeout\u001b[49m\u001b[43m,\u001b[49m\n\u001b[0;32m    480\u001b[0m \u001b[43m        \u001b[49m\u001b[43mn_jobs\u001b[49m\u001b[38;5;241;43m=\u001b[39;49m\u001b[43mn_jobs\u001b[49m\u001b[43m,\u001b[49m\n\u001b[0;32m    481\u001b[0m \u001b[43m        \u001b[49m\u001b[43mcatch\u001b[49m\u001b[38;5;241;43m=\u001b[39;49m\u001b[38;5;28;43mtuple\u001b[39;49m\u001b[43m(\u001b[49m\u001b[43mcatch\u001b[49m\u001b[43m)\u001b[49m\u001b[43m \u001b[49m\u001b[38;5;28;43;01mif\u001b[39;49;00m\u001b[43m \u001b[49m\u001b[38;5;28;43misinstance\u001b[39;49m\u001b[43m(\u001b[49m\u001b[43mcatch\u001b[49m\u001b[43m,\u001b[49m\u001b[43m \u001b[49m\u001b[43mIterable\u001b[49m\u001b[43m)\u001b[49m\u001b[43m \u001b[49m\u001b[38;5;28;43;01melse\u001b[39;49;00m\u001b[43m \u001b[49m\u001b[43m(\u001b[49m\u001b[43mcatch\u001b[49m\u001b[43m,\u001b[49m\u001b[43m)\u001b[49m\u001b[43m,\u001b[49m\n\u001b[0;32m    482\u001b[0m \u001b[43m        \u001b[49m\u001b[43mcallbacks\u001b[49m\u001b[38;5;241;43m=\u001b[39;49m\u001b[43mcallbacks\u001b[49m\u001b[43m,\u001b[49m\n\u001b[0;32m    483\u001b[0m \u001b[43m        \u001b[49m\u001b[43mgc_after_trial\u001b[49m\u001b[38;5;241;43m=\u001b[39;49m\u001b[43mgc_after_trial\u001b[49m\u001b[43m,\u001b[49m\n\u001b[0;32m    484\u001b[0m \u001b[43m        \u001b[49m\u001b[43mshow_progress_bar\u001b[49m\u001b[38;5;241;43m=\u001b[39;49m\u001b[43mshow_progress_bar\u001b[49m\u001b[43m,\u001b[49m\n\u001b[0;32m    485\u001b[0m \u001b[43m    \u001b[49m\u001b[43m)\u001b[49m\n",
      "File \u001b[1;32mc:\\Users\\danie\\OneDrive - Singapore Management University\\SMU Singapore\\Academics\\Aug 2024\\CS609_ReinforcementLearning\\Project\\LaneSwitchRL-Simulation\\.venv\\Lib\\site-packages\\optuna\\study\\_optimize.py:63\u001b[0m, in \u001b[0;36m_optimize\u001b[1;34m(study, func, n_trials, timeout, n_jobs, catch, callbacks, gc_after_trial, show_progress_bar)\u001b[0m\n\u001b[0;32m     61\u001b[0m \u001b[38;5;28;01mtry\u001b[39;00m:\n\u001b[0;32m     62\u001b[0m     \u001b[38;5;28;01mif\u001b[39;00m n_jobs \u001b[38;5;241m==\u001b[39m \u001b[38;5;241m1\u001b[39m:\n\u001b[1;32m---> 63\u001b[0m         \u001b[43m_optimize_sequential\u001b[49m\u001b[43m(\u001b[49m\n\u001b[0;32m     64\u001b[0m \u001b[43m            \u001b[49m\u001b[43mstudy\u001b[49m\u001b[43m,\u001b[49m\n\u001b[0;32m     65\u001b[0m \u001b[43m            \u001b[49m\u001b[43mfunc\u001b[49m\u001b[43m,\u001b[49m\n\u001b[0;32m     66\u001b[0m \u001b[43m            \u001b[49m\u001b[43mn_trials\u001b[49m\u001b[43m,\u001b[49m\n\u001b[0;32m     67\u001b[0m \u001b[43m            \u001b[49m\u001b[43mtimeout\u001b[49m\u001b[43m,\u001b[49m\n\u001b[0;32m     68\u001b[0m \u001b[43m            \u001b[49m\u001b[43mcatch\u001b[49m\u001b[43m,\u001b[49m\n\u001b[0;32m     69\u001b[0m \u001b[43m            \u001b[49m\u001b[43mcallbacks\u001b[49m\u001b[43m,\u001b[49m\n\u001b[0;32m     70\u001b[0m \u001b[43m            \u001b[49m\u001b[43mgc_after_trial\u001b[49m\u001b[43m,\u001b[49m\n\u001b[0;32m     71\u001b[0m \u001b[43m            \u001b[49m\u001b[43mreseed_sampler_rng\u001b[49m\u001b[38;5;241;43m=\u001b[39;49m\u001b[38;5;28;43;01mFalse\u001b[39;49;00m\u001b[43m,\u001b[49m\n\u001b[0;32m     72\u001b[0m \u001b[43m            \u001b[49m\u001b[43mtime_start\u001b[49m\u001b[38;5;241;43m=\u001b[39;49m\u001b[38;5;28;43;01mNone\u001b[39;49;00m\u001b[43m,\u001b[49m\n\u001b[0;32m     73\u001b[0m \u001b[43m            \u001b[49m\u001b[43mprogress_bar\u001b[49m\u001b[38;5;241;43m=\u001b[39;49m\u001b[43mprogress_bar\u001b[49m\u001b[43m,\u001b[49m\n\u001b[0;32m     74\u001b[0m \u001b[43m        \u001b[49m\u001b[43m)\u001b[49m\n\u001b[0;32m     75\u001b[0m     \u001b[38;5;28;01melse\u001b[39;00m:\n\u001b[0;32m     76\u001b[0m         \u001b[38;5;28;01mif\u001b[39;00m n_jobs \u001b[38;5;241m==\u001b[39m \u001b[38;5;241m-\u001b[39m\u001b[38;5;241m1\u001b[39m:\n",
      "File \u001b[1;32mc:\\Users\\danie\\OneDrive - Singapore Management University\\SMU Singapore\\Academics\\Aug 2024\\CS609_ReinforcementLearning\\Project\\LaneSwitchRL-Simulation\\.venv\\Lib\\site-packages\\optuna\\study\\_optimize.py:160\u001b[0m, in \u001b[0;36m_optimize_sequential\u001b[1;34m(study, func, n_trials, timeout, catch, callbacks, gc_after_trial, reseed_sampler_rng, time_start, progress_bar)\u001b[0m\n\u001b[0;32m    157\u001b[0m         \u001b[38;5;28;01mbreak\u001b[39;00m\n\u001b[0;32m    159\u001b[0m \u001b[38;5;28;01mtry\u001b[39;00m:\n\u001b[1;32m--> 160\u001b[0m     frozen_trial \u001b[38;5;241m=\u001b[39m \u001b[43m_run_trial\u001b[49m\u001b[43m(\u001b[49m\u001b[43mstudy\u001b[49m\u001b[43m,\u001b[49m\u001b[43m \u001b[49m\u001b[43mfunc\u001b[49m\u001b[43m,\u001b[49m\u001b[43m \u001b[49m\u001b[43mcatch\u001b[49m\u001b[43m)\u001b[49m\n\u001b[0;32m    161\u001b[0m \u001b[38;5;28;01mfinally\u001b[39;00m:\n\u001b[0;32m    162\u001b[0m     \u001b[38;5;66;03m# The following line mitigates memory problems that can be occurred in some\u001b[39;00m\n\u001b[0;32m    163\u001b[0m     \u001b[38;5;66;03m# environments (e.g., services that use computing containers such as GitHub Actions).\u001b[39;00m\n\u001b[0;32m    164\u001b[0m     \u001b[38;5;66;03m# Please refer to the following PR for further details:\u001b[39;00m\n\u001b[0;32m    165\u001b[0m     \u001b[38;5;66;03m# https://github.com/optuna/optuna/pull/325.\u001b[39;00m\n\u001b[0;32m    166\u001b[0m     \u001b[38;5;28;01mif\u001b[39;00m gc_after_trial:\n",
      "File \u001b[1;32mc:\\Users\\danie\\OneDrive - Singapore Management University\\SMU Singapore\\Academics\\Aug 2024\\CS609_ReinforcementLearning\\Project\\LaneSwitchRL-Simulation\\.venv\\Lib\\site-packages\\optuna\\study\\_optimize.py:248\u001b[0m, in \u001b[0;36m_run_trial\u001b[1;34m(study, func, catch)\u001b[0m\n\u001b[0;32m    241\u001b[0m         \u001b[38;5;28;01massert\u001b[39;00m \u001b[38;5;28;01mFalse\u001b[39;00m, \u001b[38;5;124m\"\u001b[39m\u001b[38;5;124mShould not reach.\u001b[39m\u001b[38;5;124m\"\u001b[39m\n\u001b[0;32m    243\u001b[0m \u001b[38;5;28;01mif\u001b[39;00m (\n\u001b[0;32m    244\u001b[0m     frozen_trial\u001b[38;5;241m.\u001b[39mstate \u001b[38;5;241m==\u001b[39m TrialState\u001b[38;5;241m.\u001b[39mFAIL\n\u001b[0;32m    245\u001b[0m     \u001b[38;5;129;01mand\u001b[39;00m func_err \u001b[38;5;129;01mis\u001b[39;00m \u001b[38;5;129;01mnot\u001b[39;00m \u001b[38;5;28;01mNone\u001b[39;00m\n\u001b[0;32m    246\u001b[0m     \u001b[38;5;129;01mand\u001b[39;00m \u001b[38;5;129;01mnot\u001b[39;00m \u001b[38;5;28misinstance\u001b[39m(func_err, catch)\n\u001b[0;32m    247\u001b[0m ):\n\u001b[1;32m--> 248\u001b[0m     \u001b[38;5;28;01mraise\u001b[39;00m func_err\n\u001b[0;32m    249\u001b[0m \u001b[38;5;28;01mreturn\u001b[39;00m frozen_trial\n",
      "File \u001b[1;32mc:\\Users\\danie\\OneDrive - Singapore Management University\\SMU Singapore\\Academics\\Aug 2024\\CS609_ReinforcementLearning\\Project\\LaneSwitchRL-Simulation\\.venv\\Lib\\site-packages\\optuna\\study\\_optimize.py:197\u001b[0m, in \u001b[0;36m_run_trial\u001b[1;34m(study, func, catch)\u001b[0m\n\u001b[0;32m    195\u001b[0m \u001b[38;5;28;01mwith\u001b[39;00m get_heartbeat_thread(trial\u001b[38;5;241m.\u001b[39m_trial_id, study\u001b[38;5;241m.\u001b[39m_storage):\n\u001b[0;32m    196\u001b[0m     \u001b[38;5;28;01mtry\u001b[39;00m:\n\u001b[1;32m--> 197\u001b[0m         value_or_values \u001b[38;5;241m=\u001b[39m \u001b[43mfunc\u001b[49m\u001b[43m(\u001b[49m\u001b[43mtrial\u001b[49m\u001b[43m)\u001b[49m\n\u001b[0;32m    198\u001b[0m     \u001b[38;5;28;01mexcept\u001b[39;00m exceptions\u001b[38;5;241m.\u001b[39mTrialPruned \u001b[38;5;28;01mas\u001b[39;00m e:\n\u001b[0;32m    199\u001b[0m         \u001b[38;5;66;03m# TODO(mamu): Handle multi-objective cases.\u001b[39;00m\n\u001b[0;32m    200\u001b[0m         state \u001b[38;5;241m=\u001b[39m TrialState\u001b[38;5;241m.\u001b[39mPRUNED\n",
      "File \u001b[1;32mc:\\Users\\danie\\OneDrive - Singapore Management University\\SMU Singapore\\Academics\\Aug 2024\\CS609_ReinforcementLearning\\Project\\LaneSwitchRL-Simulation\\notebooks\\../src\\task2_agents.py:561\u001b[0m, in \u001b[0;36mTemporalDifference.hyperparameter_tuning.<locals>.objective\u001b[1;34m(trial)\u001b[0m\n\u001b[0;32m    558\u001b[0m rewards \u001b[38;5;241m=\u001b[39m \u001b[38;5;28mself\u001b[39m\u001b[38;5;241m.\u001b[39mtrain(num_episodes\u001b[38;5;241m=\u001b[39mepisodes, on_policy \u001b[38;5;241m=\u001b[39m on_policy)\n\u001b[0;32m    560\u001b[0m \u001b[38;5;66;03m# Calculate the average reward over the last 1000 episodes\u001b[39;00m\n\u001b[1;32m--> 561\u001b[0m average_reward \u001b[38;5;241m=\u001b[39m \u001b[43mnp\u001b[49m\u001b[38;5;241;43m.\u001b[39;49m\u001b[43mmean\u001b[49m\u001b[43m(\u001b[49m\u001b[43mrewards\u001b[49m\u001b[43m[\u001b[49m\u001b[38;5;241;43m-\u001b[39;49m\u001b[38;5;241;43m500\u001b[39;49m\u001b[43m:\u001b[49m\u001b[43m]\u001b[49m\u001b[43m)\u001b[49m\n\u001b[0;32m    562\u001b[0m \u001b[38;5;28mprint\u001b[39m(\u001b[38;5;124mf\u001b[39m\u001b[38;5;124m\"\u001b[39m\u001b[38;5;124mTrial \u001b[39m\u001b[38;5;132;01m{\u001b[39;00mtrial\u001b[38;5;241m.\u001b[39mnumber\u001b[38;5;132;01m}\u001b[39;00m\u001b[38;5;124m: Average Reward = \u001b[39m\u001b[38;5;132;01m{\u001b[39;00maverage_reward\u001b[38;5;132;01m:\u001b[39;00m\u001b[38;5;124m.2f\u001b[39m\u001b[38;5;132;01m}\u001b[39;00m\u001b[38;5;124m\"\u001b[39m)\n\u001b[0;32m    564\u001b[0m \u001b[38;5;28;01mreturn\u001b[39;00m average_reward\n",
      "File \u001b[1;32mc:\\Users\\danie\\OneDrive - Singapore Management University\\SMU Singapore\\Academics\\Aug 2024\\CS609_ReinforcementLearning\\Project\\LaneSwitchRL-Simulation\\.venv\\Lib\\site-packages\\numpy\\_core\\fromnumeric.py:3904\u001b[0m, in \u001b[0;36mmean\u001b[1;34m(a, axis, dtype, out, keepdims, where)\u001b[0m\n\u001b[0;32m   3901\u001b[0m     \u001b[38;5;28;01melse\u001b[39;00m:\n\u001b[0;32m   3902\u001b[0m         \u001b[38;5;28;01mreturn\u001b[39;00m mean(axis\u001b[38;5;241m=\u001b[39maxis, dtype\u001b[38;5;241m=\u001b[39mdtype, out\u001b[38;5;241m=\u001b[39mout, \u001b[38;5;241m*\u001b[39m\u001b[38;5;241m*\u001b[39mkwargs)\n\u001b[1;32m-> 3904\u001b[0m \u001b[38;5;28;01mreturn\u001b[39;00m \u001b[43m_methods\u001b[49m\u001b[38;5;241;43m.\u001b[39;49m\u001b[43m_mean\u001b[49m\u001b[43m(\u001b[49m\u001b[43ma\u001b[49m\u001b[43m,\u001b[49m\u001b[43m \u001b[49m\u001b[43maxis\u001b[49m\u001b[38;5;241;43m=\u001b[39;49m\u001b[43maxis\u001b[49m\u001b[43m,\u001b[49m\u001b[43m \u001b[49m\u001b[43mdtype\u001b[49m\u001b[38;5;241;43m=\u001b[39;49m\u001b[43mdtype\u001b[49m\u001b[43m,\u001b[49m\n\u001b[0;32m   3905\u001b[0m \u001b[43m                      \u001b[49m\u001b[43mout\u001b[49m\u001b[38;5;241;43m=\u001b[39;49m\u001b[43mout\u001b[49m\u001b[43m,\u001b[49m\u001b[43m \u001b[49m\u001b[38;5;241;43m*\u001b[39;49m\u001b[38;5;241;43m*\u001b[39;49m\u001b[43mkwargs\u001b[49m\u001b[43m)\u001b[49m\n",
      "File \u001b[1;32mc:\\Users\\danie\\OneDrive - Singapore Management University\\SMU Singapore\\Academics\\Aug 2024\\CS609_ReinforcementLearning\\Project\\LaneSwitchRL-Simulation\\.venv\\Lib\\site-packages\\numpy\\_core\\_methods.py:120\u001b[0m, in \u001b[0;36m_mean\u001b[1;34m(a, axis, dtype, out, keepdims, where)\u001b[0m\n\u001b[0;32m    119\u001b[0m \u001b[38;5;28;01mdef\u001b[39;00m \u001b[38;5;21m_mean\u001b[39m(a, axis\u001b[38;5;241m=\u001b[39m\u001b[38;5;28;01mNone\u001b[39;00m, dtype\u001b[38;5;241m=\u001b[39m\u001b[38;5;28;01mNone\u001b[39;00m, out\u001b[38;5;241m=\u001b[39m\u001b[38;5;28;01mNone\u001b[39;00m, keepdims\u001b[38;5;241m=\u001b[39m\u001b[38;5;28;01mFalse\u001b[39;00m, \u001b[38;5;241m*\u001b[39m, where\u001b[38;5;241m=\u001b[39m\u001b[38;5;28;01mTrue\u001b[39;00m):\n\u001b[1;32m--> 120\u001b[0m     arr \u001b[38;5;241m=\u001b[39m \u001b[43masanyarray\u001b[49m\u001b[43m(\u001b[49m\u001b[43ma\u001b[49m\u001b[43m)\u001b[49m\n\u001b[0;32m    122\u001b[0m     is_float16_result \u001b[38;5;241m=\u001b[39m \u001b[38;5;28;01mFalse\u001b[39;00m\n\u001b[0;32m    124\u001b[0m     rcount \u001b[38;5;241m=\u001b[39m _count_reduce_items(arr, axis, keepdims\u001b[38;5;241m=\u001b[39mkeepdims, where\u001b[38;5;241m=\u001b[39mwhere)\n",
      "\u001b[1;31mValueError\u001b[0m: setting an array element with a sequence. The requested array has an inhomogeneous shape after 1 dimensions. The detected shape was (2,) + inhomogeneous part."
     ]
    }
   ],
   "source": [
    "hyperparameter_space = {\n",
    "    'alpha': [1e-4, 1e-2],           # Learning rate range (log scale)\n",
    "    'gamma': [0.1, 0.99],            # Discount factor range\n",
    "    'epsilon_decay': [0.9, 0.9999],   # Epsilon decay range\n",
    "    'epsilon_min': [0.01, 0.1],      # Minimum epsilon range\n",
    "    'lambd': [0, 0.9]             # Lambda range for eligibility traces\n",
    "}\n",
    "env = CustomTrafficEnvironment(max_time_steps=10000, logging_enabled=False)\n",
    "td_lambda = TemporalDifference(env)\n",
    "# Run hyperparameter tuning\n",
    "best_agent, best_params = td_lambda.hyperparameter_tuning(hyperparameter_space=hyperparameter_space, episodes=500, n_trials=30, on_policy=False)"
   ]
  }
 ],
 "metadata": {
  "kernelspec": {
   "display_name": ".venv",
   "language": "python",
   "name": "python3"
  },
  "language_info": {
   "codemirror_mode": {
    "name": "ipython",
    "version": 3
   },
   "file_extension": ".py",
   "mimetype": "text/x-python",
   "name": "python",
   "nbconvert_exporter": "python",
   "pygments_lexer": "ipython3",
   "version": "3.12.6"
  }
 },
 "nbformat": 4,
 "nbformat_minor": 2
}
