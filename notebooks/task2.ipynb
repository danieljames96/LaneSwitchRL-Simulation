{
 "cells": [
  {
   "cell_type": "markdown",
   "metadata": {},
   "source": [
    "# Task 2"
   ]
  },
  {
   "cell_type": "markdown",
   "metadata": {},
   "source": [
    "## Import Libraries"
   ]
  },
  {
   "cell_type": "code",
   "execution_count": 1,
   "metadata": {},
   "outputs": [
    {
     "name": "stderr",
     "output_type": "stream",
     "text": [
      "c:\\Users\\danie\\OneDrive - Singapore Management University\\SMU Singapore\\Academics\\Aug 2024\\CS609_ReinforcementLearning\\Project\\LaneSwitchRL-Simulation\\.venv\\Lib\\site-packages\\tqdm\\auto.py:21: TqdmWarning: IProgress not found. Please update jupyter and ipywidgets. See https://ipywidgets.readthedocs.io/en/stable/user_install.html\n",
      "  from .autonotebook import tqdm as notebook_tqdm\n"
     ]
    }
   ],
   "source": [
    "import sys\n",
    "sys.path.append('../src')\n",
    "\n",
    "import matplotlib.pyplot as plt\n",
    "import numpy as np\n",
    "import os\n",
    "import pandas as pd\n",
    "from tqdm import tqdm\n",
    "\n",
    "from environment_gym import TrafficEnvironment\n",
    "from task2_environment import CustomTrafficEnvironment\n",
    "from task2_agents import RuleBasedAgent, TemporalDifference\n",
    "from visualization import extract_timesteps_from_json, create_visualization_from_cached_data\n",
    "\n",
    "seed = 2024"
   ]
  },
  {
   "cell_type": "markdown",
   "metadata": {},
   "source": [
    "## Rule-Based Agent"
   ]
  },
  {
   "cell_type": "markdown",
   "metadata": {},
   "source": [
    "### Fastest Adjacent Lane"
   ]
  },
  {
   "cell_type": "code",
   "execution_count": 6,
   "metadata": {},
   "outputs": [
    {
     "name": "stderr",
     "output_type": "stream",
     "text": [
      "100%|██████████| 500/500 [00:32<00:00, 15.25it/s]"
     ]
    },
    {
     "name": "stdout",
     "output_type": "stream",
     "text": [
      "Truncated episodes: 144\n",
      "Average cumulative rewards for Fastest Adjacent Lane strategy: -8246\n",
      "Average timesteps to termination for Fastest Adjacent Lane strategy: 359\n"
     ]
    },
    {
     "name": "stderr",
     "output_type": "stream",
     "text": [
      "\n"
     ]
    }
   ],
   "source": [
    "# Create the environment\n",
    "env = CustomTrafficEnvironment(max_time_steps=10000, logging_enabled=False, seed=seed)\n",
    "# Evaluate each strategy\n",
    "rewards_dict = {}\n",
    "timesteps_dict = {}\n",
    "\n",
    "agent = RuleBasedAgent(env=env, strategy='fastest_adjacent')\n",
    "# episode_rewards, checkpoint_rewards, timesteps_to_termination = evaluate_agent(agent, env)\n",
    "all_episode_rewards, all_timesteps = agent.evaluate_agent(num_episodes=500)\n",
    "rewards_dict['Fastest Adjacent Lane Agent'] = all_episode_rewards\n",
    "timesteps_dict['Fastest Adjacent Lane Agent'] = all_timesteps\n",
    "# env.logger.info(\"\\n\"*5)\n",
    "\n",
    "print(f'Average cumulative rewards for Fastest Adjacent Lane strategy: {round(np.mean(rewards_dict['Fastest Adjacent Lane Agent']))}')\n",
    "print(f'Average timesteps to termination for Fastest Adjacent Lane strategy: {round(np.mean(timesteps_dict[\"Fastest Adjacent Lane Agent\"]))}')"
   ]
  },
  {
   "cell_type": "markdown",
   "metadata": {},
   "source": [
    "### Same Lane"
   ]
  },
  {
   "cell_type": "code",
   "execution_count": 7,
   "metadata": {},
   "outputs": [
    {
     "name": "stderr",
     "output_type": "stream",
     "text": [
      "100%|██████████| 500/500 [00:41<00:00, 12.18it/s]\n"
     ]
    },
    {
     "name": "stdout",
     "output_type": "stream",
     "text": [
      "Truncated episodes: 181\n",
      "Average cumulative rewards for Same Lane Agent 1: -11523\n",
      "Average timesteps to termination for Same Lane Agent 1: 470\n",
      "\n",
      "\n"
     ]
    },
    {
     "name": "stderr",
     "output_type": "stream",
     "text": [
      "100%|██████████| 500/500 [00:40<00:00, 12.44it/s]\n"
     ]
    },
    {
     "name": "stdout",
     "output_type": "stream",
     "text": [
      "Truncated episodes: 184\n",
      "Average cumulative rewards for Same Lane Agent 2: -10046\n",
      "Average timesteps to termination for Same Lane Agent 2: 469\n",
      "\n",
      "\n"
     ]
    },
    {
     "name": "stderr",
     "output_type": "stream",
     "text": [
      "100%|██████████| 500/500 [00:38<00:00, 13.11it/s]\n"
     ]
    },
    {
     "name": "stdout",
     "output_type": "stream",
     "text": [
      "Truncated episodes: 177\n",
      "Average cumulative rewards for Same Lane Agent 3: -9666\n",
      "Average timesteps to termination for Same Lane Agent 3: 455\n",
      "\n",
      "\n"
     ]
    },
    {
     "name": "stderr",
     "output_type": "stream",
     "text": [
      "100%|██████████| 500/500 [00:39<00:00, 12.80it/s]\n"
     ]
    },
    {
     "name": "stdout",
     "output_type": "stream",
     "text": [
      "Truncated episodes: 180\n",
      "Average cumulative rewards for Same Lane Agent 4: -10260\n",
      "Average timesteps to termination for Same Lane Agent 4: 473\n",
      "\n",
      "\n"
     ]
    },
    {
     "name": "stderr",
     "output_type": "stream",
     "text": [
      "100%|██████████| 500/500 [00:40<00:00, 12.33it/s]"
     ]
    },
    {
     "name": "stdout",
     "output_type": "stream",
     "text": [
      "Truncated episodes: 183\n",
      "Average cumulative rewards for Same Lane Agent 5: -12317\n",
      "Average timesteps to termination for Same Lane Agent 5: 481\n",
      "\n",
      "\n"
     ]
    },
    {
     "name": "stderr",
     "output_type": "stream",
     "text": [
      "\n"
     ]
    }
   ],
   "source": [
    "# Create the environment\n",
    "env = CustomTrafficEnvironment(max_time_steps=10000, logging_enabled=False, seed=seed)\n",
    "\n",
    "for i in range(5):\n",
    "    env.logger.info(f\"Evaluating Agent {i+1}\")\n",
    "    agent = RuleBasedAgent(env=env, strategy='stay')\n",
    "    all_episode_rewards, all_timesteps = agent.evaluate_agent(num_episodes=500, starting_lane=i+1)\n",
    "    rewards_dict[f'Same Lane Agent {i+1}'] = all_episode_rewards\n",
    "    timesteps_dict[f'Same Lane Agent {i+1}'] = all_timesteps\n",
    "    \n",
    "    print(f'Average cumulative rewards for Same Lane Agent {i+1}: {round(np.mean(all_episode_rewards))}')\n",
    "    print(f'Average timesteps to termination for Same Lane Agent {i+1}: {round(np.mean(all_timesteps))}')\n",
    "    print('\\n')"
   ]
  },
  {
   "cell_type": "markdown",
   "metadata": {},
   "source": [
    "## Value-based Agent"
   ]
  },
  {
   "cell_type": "markdown",
   "metadata": {},
   "source": [
    "### Training"
   ]
  },
  {
   "cell_type": "markdown",
   "metadata": {},
   "source": [
    "{'alpha': 0.00192124204435242, 'gamma': 0.2797587807241957, 'epsilon_min': 0.021845516948892266, 'lambd': 0.49017176264381024}"
   ]
  },
  {
   "cell_type": "code",
   "execution_count": 4,
   "metadata": {},
   "outputs": [
    {
     "name": "stderr",
     "output_type": "stream",
     "text": [
      "100%|██████████| 500/500 [15:50<00:00,  1.90s/it]\n"
     ]
    },
    {
     "name": "stdout",
     "output_type": "stream",
     "text": [
      "Early Termination Count: 204\n",
      "Sum of total rewards = -6156598.800000002\n",
      "Average total reward per episode = -12313.197600000001\n",
      "Average steps per episode = 464.3310810810811\n"
     ]
    },
    {
     "data": {
      "image/png": "[encoded data removed]",
      "text/plain": [
       "<Figure size 1500x500 with 2 Axes>"
      ]
     },
     "metadata": {},
     "output_type": "display_data"
    }
   ],
   "source": [
    "# Create the environment\n",
    "env = CustomTrafficEnvironment(max_time_steps=10000, logging_enabled=False, seed=seed)\n",
    "\n",
    "td_lambda = TemporalDifference(env, oiv = 0.1, alpha=1.92e-3, epsilon=1.0, lambd=0.49, gamma=0.28, epsilon_decay=0.9999, epsilon_min=0.022)\n",
    "total_reward_list, total_steps_list = td_lambda.train(num_episodes = 500, on_policy = False, save_model = False)\n",
    "total_rew = sum(total_reward_list)\n",
    "avg_rew = np.mean(total_reward_list)\n",
    "avg_steps = np.mean(total_steps_list)\n",
    "\n",
    "print(f'Sum of total rewards = {total_rew}')\n",
    "print(f'Average total reward per episode = {avg_rew}')\n",
    "print(f'Average steps per episode = {avg_steps}')\n",
    "\n",
    "# plot training metrics\n",
    "td_lambda.plot_training_metrics(window_size=50)\n",
    "plt.show()"
   ]
  },
  {
   "cell_type": "markdown",
   "metadata": {},
   "source": [
    "### Analysis"
   ]
  },
  {
   "cell_type": "code",
   "execution_count": 5,
   "metadata": {},
   "outputs": [
    {
     "name": "stdout",
     "output_type": "stream",
     "text": [
      "Filled State Space: 3207\n"
     ]
    }
   ],
   "source": [
    "print(f'Filled State Space: {len(td_lambda.Q)}')"
   ]
  },
  {
   "cell_type": "markdown",
   "metadata": {},
   "source": [
    "State Space Size = 10 x 10 x 10 (Clearance Rates) x 5 (Risk Factor) x 3 (Actions) = 15,000"
   ]
  },
  {
   "cell_type": "code",
   "execution_count": 6,
   "metadata": {},
   "outputs": [
    {
     "data": {
      "text/html": [
       "<div>\n",
       "<style scoped>\n",
       "    .dataframe tbody tr th:only-of-type {\n",
       "        vertical-align: middle;\n",
       "    }\n",
       "\n",
       "    .dataframe tbody tr th {\n",
       "        vertical-align: top;\n",
       "    }\n",
       "\n",
       "    .dataframe thead th {\n",
       "        text-align: right;\n",
       "    }\n",
       "</style>\n",
       "<table border=\"1\" class=\"dataframe\">\n",
       "  <thead>\n",
       "    <tr style=\"text-align: right;\">\n",
       "      <th></th>\n",
       "      <th>Current Lane Rate</th>\n",
       "      <th>Left Lane Rate</th>\n",
       "      <th>Right Lane Rate</th>\n",
       "      <th>Risk Factor</th>\n",
       "      <th>Left</th>\n",
       "      <th>Stay</th>\n",
       "      <th>Right</th>\n",
       "    </tr>\n",
       "  </thead>\n",
       "  <tbody>\n",
       "    <tr>\n",
       "      <th>0</th>\n",
       "      <td>5</td>\n",
       "      <td>0</td>\n",
       "      <td>5</td>\n",
       "      <td>0</td>\n",
       "      <td>-1.218330</td>\n",
       "      <td>37.295031</td>\n",
       "      <td>0.912509</td>\n",
       "    </tr>\n",
       "    <tr>\n",
       "      <th>1</th>\n",
       "      <td>5</td>\n",
       "      <td>5</td>\n",
       "      <td>4</td>\n",
       "      <td>0</td>\n",
       "      <td>0.280931</td>\n",
       "      <td>2.996587</td>\n",
       "      <td>0.134972</td>\n",
       "    </tr>\n",
       "    <tr>\n",
       "      <th>2</th>\n",
       "      <td>5</td>\n",
       "      <td>0</td>\n",
       "      <td>4</td>\n",
       "      <td>0</td>\n",
       "      <td>-0.957550</td>\n",
       "      <td>29.659747</td>\n",
       "      <td>0.221033</td>\n",
       "    </tr>\n",
       "    <tr>\n",
       "      <th>3</th>\n",
       "      <td>5</td>\n",
       "      <td>0</td>\n",
       "      <td>6</td>\n",
       "      <td>0</td>\n",
       "      <td>-0.177903</td>\n",
       "      <td>22.576233</td>\n",
       "      <td>0.680582</td>\n",
       "    </tr>\n",
       "    <tr>\n",
       "      <th>4</th>\n",
       "      <td>5</td>\n",
       "      <td>0</td>\n",
       "      <td>6</td>\n",
       "      <td>1</td>\n",
       "      <td>0.036300</td>\n",
       "      <td>1.088888</td>\n",
       "      <td>0.100000</td>\n",
       "    </tr>\n",
       "  </tbody>\n",
       "</table>\n",
       "</div>"
      ],
      "text/plain": [
       "   Current Lane Rate  Left Lane Rate  Right Lane Rate  Risk Factor      Left  \\\n",
       "0                  5               0                5            0 -1.218330   \n",
       "1                  5               5                4            0  0.280931   \n",
       "2                  5               0                4            0 -0.957550   \n",
       "3                  5               0                6            0 -0.177903   \n",
       "4                  5               0                6            1  0.036300   \n",
       "\n",
       "        Stay     Right  \n",
       "0  37.295031  0.912509  \n",
       "1   2.996587  0.134972  \n",
       "2  29.659747  0.221033  \n",
       "3  22.576233  0.680582  \n",
       "4   1.088888  0.100000  "
      ]
     },
     "execution_count": 6,
     "metadata": {},
     "output_type": "execute_result"
    }
   ],
   "source": [
    "q_df = td_lambda.q_table_to_dataframe()\n",
    "q_df.head()"
   ]
  },
  {
   "cell_type": "code",
   "execution_count": 7,
   "metadata": {},
   "outputs": [
    {
     "name": "stdout",
     "output_type": "stream",
     "text": [
      "Number of cases where the Current lane is fastest and has the highest value for low risk: 20.049890863735577%\n",
      "Number of cases where the Left lane is fastest and has the highest value for low risk: 4.490177736202058%\n",
      "Number of cases where the Right lane is fastest and has the highest value for low risk: 3.8041783598378545%\n"
     ]
    }
   ],
   "source": [
    "lanes = ['Current', 'Left', 'Right']\n",
    "for fast_lane in lanes:\n",
    "    other_lanes = lanes.copy()\n",
    "    other_lanes.remove(fast_lane)\n",
    "    total = q_df.loc[((q_df[f'{fast_lane} Lane Rate'] > q_df[f'{other_lanes[0]} Lane Rate']) & (q_df[f'{fast_lane} Lane Rate'] > q_df[f'{other_lanes[1]} Lane Rate'])) & (q_df['Risk Factor'] < 5)].shape[0]\n",
    "    rate = q_df.loc[((q_df[f'{fast_lane} Lane Rate'] > q_df[f'{other_lanes[0]} Lane Rate']) & (q_df[f'{fast_lane} Lane Rate'] > q_df[f'{other_lanes[1]} Lane Rate'])) & (q_df['Risk Factor'] < 5) \\\n",
    "    & ((q_df[f'{fast_lane if fast_lane != 'Current' else 'Stay'}'] > q_df[f'{other_lanes[0] if other_lanes[0] != 'Current' else 'Stay'}']) \\\n",
    "        & (q_df[f'{fast_lane if fast_lane != 'Current' else 'Stay'}'] > q_df[f'{other_lanes[1] if other_lanes[1] != 'Current' else 'Stay'}']))].shape[0]\n",
    "    rate = rate/q_df.shape[0]\n",
    "    print(f\"Number of cases where the {fast_lane} lane is fastest and has the highest value for low risk: {rate*100}%\")"
   ]
  },
  {
   "cell_type": "markdown",
   "metadata": {},
   "source": [
    "### Evaluation"
   ]
  },
  {
   "cell_type": "code",
   "execution_count": 6,
   "metadata": {},
   "outputs": [],
   "source": [
    "td_lambda.Env.enable_logging()"
   ]
  },
  {
   "cell_type": "code",
   "execution_count": 5,
   "metadata": {},
   "outputs": [
    {
     "name": "stderr",
     "output_type": "stream",
     "text": [
      "100%|██████████| 500/500 [00:45<00:00, 11.04it/s]"
     ]
    },
    {
     "name": "stdout",
     "output_type": "stream",
     "text": [
      "Early terminations: 189\n",
      "Average cumulative rewards for TD-Lambda Agent: -10137\n",
      "Average timesteps to termination for TD-Lambda Agent: 361\n"
     ]
    },
    {
     "name": "stderr",
     "output_type": "stream",
     "text": [
      "\n"
     ]
    }
   ],
   "source": [
    "# Evaluate the agent in inference mode\n",
    "all_rewards, all_steps, log_file = td_lambda.evaluate(num_episodes=500)\n",
    "\n",
    "# Print the results\n",
    "print(f\"Average cumulative rewards for TD-Lambda Agent: {round(np.mean(all_rewards))}\")\n",
    "print(f\"Average timesteps to termination for TD-Lambda Agent: {round(np.mean(all_steps))}\")"
   ]
  },
  {
   "cell_type": "code",
   "execution_count": 7,
   "metadata": {},
   "outputs": [],
   "source": [
    "td_lambda.Env.disable_logging()"
   ]
  },
  {
   "cell_type": "markdown",
   "metadata": {},
   "source": [
    "### Visualization"
   ]
  },
  {
   "cell_type": "code",
   "execution_count": 8,
   "metadata": {},
   "outputs": [
    {
     "name": "stdout",
     "output_type": "stream",
     "text": [
      "Timesteps data from the first line successfully cached, containing 320 timesteps\n",
      "GIF saved at ./gifs/task2/test_log_20241106_012844.gif\n"
     ]
    }
   ],
   "source": [
    "json_path = log_file\n",
    "\n",
    "extract_timesteps_from_json(json_path)\n",
    "gif_filename = os.path.basename(json_path).replace('.json', '.gif')\n",
    "\n",
    "gif_filepath = f'./gifs/task2/{gif_filename}'\n",
    "\n",
    "create_visualization_from_cached_data(gif_filename=gif_filepath, step_interval=1)"
   ]
  },
  {
   "cell_type": "markdown",
   "metadata": {},
   "source": [
    "### Hyperparameter Tuning"
   ]
  },
  {
   "cell_type": "code",
   "execution_count": 3,
   "metadata": {},
   "outputs": [
    {
     "name": "stderr",
     "output_type": "stream",
     "text": [
      "[I 2024-11-06 01:30:58,466] A new study created in memory with name: no-name-cfddac4e-4b8c-4e10-b08c-130a23b316bb\n",
      "100%|██████████| 500/500 [11:41<00:00,  1.40s/it]\n",
      "[I 2024-11-06 01:42:40,039] Trial 0 finished with value: -14501.168 and parameters: {'alpha': 0.00013369553960730038, 'gamma': 0.5508399047063363, 'epsilon_min': 0.05336545245221014, 'lambd': 0.16030156070198845}. Best is trial 0 with value: -14501.168.\n"
     ]
    },
    {
     "name": "stdout",
     "output_type": "stream",
     "text": [
      "Early Termination Count: 183\n",
      "Trial 0: Average Reward = -14501.17\n"
     ]
    },
    {
     "name": "stderr",
     "output_type": "stream",
     "text": [
      "100%|██████████| 500/500 [18:04<00:00,  2.17s/it]\n",
      "[I 2024-11-06 02:00:45,005] Trial 1 finished with value: -11479.3498 and parameters: {'alpha': 0.00839084899284165, 'gamma': 0.36562021917105747, 'epsilon_min': 0.024975903476890278, 'lambd': 0.7393927506798519}. Best is trial 1 with value: -11479.3498.\n"
     ]
    },
    {
     "name": "stdout",
     "output_type": "stream",
     "text": [
      "Early Termination Count: 175\n",
      "Trial 1: Average Reward = -11479.35\n"
     ]
    },
    {
     "name": "stderr",
     "output_type": "stream",
     "text": [
      "100%|██████████| 500/500 [20:53<00:00,  2.51s/it]\n",
      "[I 2024-11-06 02:21:38,027] Trial 2 finished with value: -11556.179199999999 and parameters: {'alpha': 0.0012292760410272225, 'gamma': 0.211732213450754, 'epsilon_min': 0.013896668682229291, 'lambd': 0.6014068888686219}. Best is trial 1 with value: -11479.3498.\n"
     ]
    },
    {
     "name": "stdout",
     "output_type": "stream",
     "text": [
      "Early Termination Count: 189\n",
      "Trial 2: Average Reward = -11556.18\n"
     ]
    },
    {
     "name": "stderr",
     "output_type": "stream",
     "text": [
      "100%|██████████| 500/500 [22:47<00:00,  2.74s/it]\n",
      "[I 2024-11-06 02:44:25,839] Trial 3 finished with value: -11822.596599999997 and parameters: {'alpha': 0.0002454642405254573, 'gamma': 0.39188047637974777, 'epsilon_min': 0.029997315037478788, 'lambd': 0.16443304165884037}. Best is trial 1 with value: -11479.3498.\n"
     ]
    },
    {
     "name": "stdout",
     "output_type": "stream",
     "text": [
      "Early Termination Count: 183\n",
      "Trial 3: Average Reward = -11822.60\n"
     ]
    },
    {
     "name": "stderr",
     "output_type": "stream",
     "text": [
      "100%|██████████| 500/500 [24:00<00:00,  2.88s/it]\n",
      "[I 2024-11-06 03:08:26,209] Trial 4 finished with value: -12417.054799999998 and parameters: {'alpha': 0.00046340020943997067, 'gamma': 0.11131534417472168, 'epsilon_min': 0.04060464007398542, 'lambd': 0.8818807963203183}. Best is trial 1 with value: -11479.3498.\n"
     ]
    },
    {
     "name": "stdout",
     "output_type": "stream",
     "text": [
      "Early Termination Count: 186\n",
      "Trial 4: Average Reward = -12417.05\n"
     ]
    },
    {
     "name": "stderr",
     "output_type": "stream",
     "text": [
      "100%|██████████| 500/500 [22:54<00:00,  2.75s/it]\n",
      "[I 2024-11-06 03:31:20,543] Trial 5 finished with value: -11462.5582 and parameters: {'alpha': 0.006709917527813584, 'gamma': 0.8802582243310468, 'epsilon_min': 0.01279364035882487, 'lambd': 0.6086416821449528}. Best is trial 5 with value: -11462.5582.\n"
     ]
    },
    {
     "name": "stdout",
     "output_type": "stream",
     "text": [
      "Early Termination Count: 175\n",
      "Trial 5: Average Reward = -11462.56\n"
     ]
    },
    {
     "name": "stderr",
     "output_type": "stream",
     "text": [
      "100%|██████████| 500/500 [23:38<00:00,  2.84s/it]\n",
      "[I 2024-11-06 03:54:59,378] Trial 6 finished with value: -10169.137399999998 and parameters: {'alpha': 0.0011549893031386836, 'gamma': 0.26379921903652004, 'epsilon_min': 0.022236710858105215, 'lambd': 0.14426472359230533}. Best is trial 6 with value: -10169.137399999998.\n"
     ]
    },
    {
     "name": "stdout",
     "output_type": "stream",
     "text": [
      "Early Termination Count: 179\n",
      "Trial 6: Average Reward = -10169.14\n"
     ]
    },
    {
     "name": "stderr",
     "output_type": "stream",
     "text": [
      "100%|██████████| 500/500 [25:53<00:00,  3.11s/it]\n",
      "[I 2024-11-06 04:20:52,651] Trial 7 finished with value: -11564.2954 and parameters: {'alpha': 0.0014965651657249308, 'gamma': 0.7788217178045674, 'epsilon_min': 0.05376746045707848, 'lambd': 0.017852831550551663}. Best is trial 6 with value: -10169.137399999998.\n"
     ]
    },
    {
     "name": "stdout",
     "output_type": "stream",
     "text": [
      "Early Termination Count: 164\n",
      "Trial 7: Average Reward = -11564.30\n"
     ]
    },
    {
     "name": "stderr",
     "output_type": "stream",
     "text": [
      "100%|██████████| 500/500 [25:54<00:00,  3.11s/it]\n",
      "[I 2024-11-06 04:46:46,745] Trial 8 finished with value: -10723.203 and parameters: {'alpha': 0.0011531266267461931, 'gamma': 0.41565219041271584, 'epsilon_min': 0.013939628578748928, 'lambd': 0.6275546873444747}. Best is trial 6 with value: -10169.137399999998.\n"
     ]
    },
    {
     "name": "stdout",
     "output_type": "stream",
     "text": [
      "Early Termination Count: 166\n",
      "Trial 8: Average Reward = -10723.20\n"
     ]
    },
    {
     "name": "stderr",
     "output_type": "stream",
     "text": [
      "100%|██████████| 500/500 [25:11<00:00,  3.02s/it]\n",
      "[I 2024-11-06 05:11:57,919] Trial 9 finished with value: -10266.319399999998 and parameters: {'alpha': 0.0015119380955352047, 'gamma': 0.50394015494717, 'epsilon_min': 0.03367387110294507, 'lambd': 0.8552907305724308}. Best is trial 6 with value: -10169.137399999998.\n"
     ]
    },
    {
     "name": "stdout",
     "output_type": "stream",
     "text": [
      "Early Termination Count: 174\n",
      "Trial 9: Average Reward = -10266.32\n"
     ]
    },
    {
     "name": "stderr",
     "output_type": "stream",
     "text": [
      "100%|██████████| 500/500 [25:59<00:00,  3.12s/it]\n",
      "[I 2024-11-06 05:37:57,538] Trial 10 finished with value: -10884.151 and parameters: {'alpha': 0.0037079248418845404, 'gamma': 0.6461926916131537, 'epsilon_min': 0.0913470082085469, 'lambd': 0.3448951335903483}. Best is trial 6 with value: -10169.137399999998.\n"
     ]
    },
    {
     "name": "stdout",
     "output_type": "stream",
     "text": [
      "Early Termination Count: 182\n",
      "Trial 10: Average Reward = -10884.15\n"
     ]
    },
    {
     "name": "stderr",
     "output_type": "stream",
     "text": [
      "100%|██████████| 500/500 [26:42<00:00,  3.21s/it]\n",
      "[I 2024-11-06 06:04:40,111] Trial 11 finished with value: -10398.888799999999 and parameters: {'alpha': 0.0026616844278862786, 'gamma': 0.2734804421912678, 'epsilon_min': 0.0383237376662616, 'lambd': 0.36200241683791845}. Best is trial 6 with value: -10169.137399999998.\n"
     ]
    },
    {
     "name": "stdout",
     "output_type": "stream",
     "text": [
      "Early Termination Count: 173\n",
      "Trial 11: Average Reward = -10398.89\n"
     ]
    },
    {
     "name": "stderr",
     "output_type": "stream",
     "text": [
      "100%|██████████| 500/500 [26:06<00:00,  3.13s/it]\n",
      "[I 2024-11-06 06:30:46,660] Trial 12 finished with value: -10901.681799999997 and parameters: {'alpha': 0.00035721231806024, 'gamma': 0.5618849109869417, 'epsilon_min': 0.07156835735681713, 'lambd': 0.8822948254166254}. Best is trial 6 with value: -10169.137399999998.\n"
     ]
    },
    {
     "name": "stdout",
     "output_type": "stream",
     "text": [
      "Early Termination Count: 195\n",
      "Trial 12: Average Reward = -10901.68\n"
     ]
    },
    {
     "name": "stderr",
     "output_type": "stream",
     "text": [
      "100%|██████████| 500/500 [27:49<00:00,  3.34s/it]\n",
      "[I 2024-11-06 06:58:36,471] Trial 13 finished with value: -11205.552800000001 and parameters: {'alpha': 0.0006330843442146032, 'gamma': 0.7110213217517362, 'epsilon_min': 0.03068533107936386, 'lambd': 0.4602345037719309}. Best is trial 6 with value: -10169.137399999998.\n"
     ]
    },
    {
     "name": "stdout",
     "output_type": "stream",
     "text": [
      "Early Termination Count: 165\n",
      "Trial 13: Average Reward = -11205.55\n"
     ]
    },
    {
     "name": "stderr",
     "output_type": "stream",
     "text": [
      "100%|██████████| 500/500 [27:48<00:00,  3.34s/it]\n",
      "[I 2024-11-06 07:26:25,358] Trial 14 finished with value: -10796.026 and parameters: {'alpha': 0.0025488789475054, 'gamma': 0.47374775944547, 'epsilon_min': 0.06914355094644056, 'lambd': 0.24741909737291445}. Best is trial 6 with value: -10169.137399999998.\n"
     ]
    },
    {
     "name": "stdout",
     "output_type": "stream",
     "text": [
      "Early Termination Count: 150\n",
      "Trial 14: Average Reward = -10796.03\n"
     ]
    },
    {
     "name": "stderr",
     "output_type": "stream",
     "text": [
      "100%|██████████| 500/500 [25:58<00:00,  3.12s/it]\n",
      "[I 2024-11-06 07:52:24,045] Trial 15 finished with value: -10871.125999999998 and parameters: {'alpha': 0.0007063773895675594, 'gamma': 0.9834487283031104, 'epsilon_min': 0.04303642153917793, 'lambd': 0.01698969474031653}. Best is trial 6 with value: -10169.137399999998.\n"
     ]
    },
    {
     "name": "stdout",
     "output_type": "stream",
     "text": [
      "Early Termination Count: 176\n",
      "Trial 15: Average Reward = -10871.13\n"
     ]
    },
    {
     "name": "stderr",
     "output_type": "stream",
     "text": [
      "100%|██████████| 500/500 [24:58<00:00,  3.00s/it]\n",
      "[I 2024-11-06 08:17:22,881] Trial 16 finished with value: -10140.2358 and parameters: {'alpha': 0.00192124204435242, 'gamma': 0.2797587807241957, 'epsilon_min': 0.021845516948892266, 'lambd': 0.49017176264381024}. Best is trial 16 with value: -10140.2358.\n"
     ]
    },
    {
     "name": "stdout",
     "output_type": "stream",
     "text": [
      "Early Termination Count: 174\n",
      "Trial 16: Average Reward = -10140.24\n"
     ]
    },
    {
     "name": "stderr",
     "output_type": "stream",
     "text": [
      "100%|██████████| 500/500 [24:55<00:00,  2.99s/it]\n",
      "[I 2024-11-06 08:42:18,267] Trial 17 finished with value: -10621.23 and parameters: {'alpha': 0.003859787284148293, 'gamma': 0.11266718085139682, 'epsilon_min': 0.02320622330234573, 'lambd': 0.48007132752708126}. Best is trial 16 with value: -10140.2358.\n"
     ]
    },
    {
     "name": "stdout",
     "output_type": "stream",
     "text": [
      "Early Termination Count: 167\n",
      "Trial 17: Average Reward = -10621.23\n"
     ]
    },
    {
     "name": "stderr",
     "output_type": "stream",
     "text": [
      "100%|██████████| 500/500 [25:00<00:00,  3.00s/it]\n",
      "[I 2024-11-06 09:07:18,819] Trial 18 finished with value: -11166.279399999998 and parameters: {'alpha': 0.002289081021677856, 'gamma': 0.2615585708705315, 'epsilon_min': 0.06862089778124036, 'lambd': 0.34035029036640385}. Best is trial 16 with value: -10140.2358.\n"
     ]
    },
    {
     "name": "stdout",
     "output_type": "stream",
     "text": [
      "Early Termination Count: 181\n",
      "Trial 18: Average Reward = -11166.28\n"
     ]
    },
    {
     "name": "stderr",
     "output_type": "stream",
     "text": [
      "100%|██████████| 500/500 [26:38<00:00,  3.20s/it]\n",
      "[I 2024-11-06 09:33:57,155] Trial 19 finished with value: -10357.345399999998 and parameters: {'alpha': 0.0008567326888334176, 'gamma': 0.31344577312022326, 'epsilon_min': 0.021709941735471763, 'lambd': 0.5323041515795106}. Best is trial 16 with value: -10140.2358.\n"
     ]
    },
    {
     "name": "stdout",
     "output_type": "stream",
     "text": [
      "Early Termination Count: 185\n",
      "Trial 19: Average Reward = -10357.35\n"
     ]
    },
    {
     "name": "stderr",
     "output_type": "stream",
     "text": [
      "100%|██████████| 500/500 [24:52<00:00,  2.99s/it]\n",
      "[I 2024-11-06 09:58:49,702] Trial 20 finished with value: -10353.212 and parameters: {'alpha': 0.005150935330243716, 'gamma': 0.15530856706880852, 'epsilon_min': 0.045283801444839664, 'lambd': 0.12670077450541747}. Best is trial 16 with value: -10140.2358.\n"
     ]
    },
    {
     "name": "stdout",
     "output_type": "stream",
     "text": [
      "Early Termination Count: 188\n",
      "Trial 20: Average Reward = -10353.21\n"
     ]
    },
    {
     "name": "stderr",
     "output_type": "stream",
     "text": [
      "100%|██████████| 500/500 [27:50<00:00,  3.34s/it]\n",
      "[I 2024-11-06 10:26:40,168] Trial 21 finished with value: -10986.927599999999 and parameters: {'alpha': 0.0013724227271120987, 'gamma': 0.4595914432198912, 'epsilon_min': 0.03468914628404262, 'lambd': 0.8112464980205946}. Best is trial 16 with value: -10140.2358.\n"
     ]
    },
    {
     "name": "stdout",
     "output_type": "stream",
     "text": [
      "Early Termination Count: 164\n",
      "Trial 21: Average Reward = -10986.93\n"
     ]
    },
    {
     "name": "stderr",
     "output_type": "stream",
     "text": [
      " 34%|███▍      | 169/500 [08:47<17:12,  3.12s/it]\n",
      "[W 2024-11-06 10:35:27,409] Trial 22 failed with parameters: {'alpha': 0.0018793319169921005, 'gamma': 0.20358486858009844, 'epsilon_min': 0.020233910795687426, 'lambd': 0.693720813789415} because of the following error: KeyboardInterrupt().\n",
      "Traceback (most recent call last):\n",
      "  File \"c:\\Users\\danie\\OneDrive - Singapore Management University\\SMU Singapore\\Academics\\Aug 2024\\CS609_ReinforcementLearning\\Project\\LaneSwitchRL-Simulation\\.venv\\Lib\\site-packages\\optuna\\study\\_optimize.py\", line 197, in _run_trial\n",
      "    value_or_values = func(trial)\n",
      "                      ^^^^^^^^^^^\n",
      "  File \"c:\\Users\\danie\\OneDrive - Singapore Management University\\SMU Singapore\\Academics\\Aug 2024\\CS609_ReinforcementLearning\\Project\\LaneSwitchRL-Simulation\\notebooks\\../src\\task2_agents.py\", line 461, in objective\n",
      "    # Train the agent with the current hyperparameters\n",
      "                     ^^^^^^^^^^^^^^^^^^^^^^^^^^^^^^^^^^\n",
      "  File \"c:\\Users\\danie\\OneDrive - Singapore Management University\\SMU Singapore\\Academics\\Aug 2024\\CS609_ReinforcementLearning\\Project\\LaneSwitchRL-Simulation\\notebooks\\../src\\task2_agents.py\", line 161, in train\n",
      "    next_action = self.epsilon_greedy_policy(next_state)\n",
      "                  ^^^^^^^^^^^^^^^^^^^^^^^^^^^^^^^^^^^^^^\n",
      "  File \"c:\\Users\\danie\\OneDrive - Singapore Management University\\SMU Singapore\\Academics\\Aug 2024\\CS609_ReinforcementLearning\\Project\\LaneSwitchRL-Simulation\\notebooks\\../src\\task2_agents.py\", line 72, in epsilon_greedy_policy\n",
      "    return self.get_best_action(state)\n",
      "           ^^^^^^^^^^^^^^^^^^^^^^^^^^^\n",
      "  File \"c:\\Users\\danie\\OneDrive - Singapore Management University\\SMU Singapore\\Academics\\Aug 2024\\CS609_ReinforcementLearning\\Project\\LaneSwitchRL-Simulation\\notebooks\\../src\\task2_agents.py\", line 55, in get_best_action\n",
      "    def get_best_action(self, state: tuple):\n",
      "    \n",
      "KeyboardInterrupt\n",
      "[W 2024-11-06 10:35:27,435] Trial 22 failed with value None.\n"
     ]
    },
    {
     "ename": "KeyboardInterrupt",
     "evalue": "",
     "output_type": "error",
     "traceback": [
      "\u001b[1;31m---------------------------------------------------------------------------\u001b[0m",
      "\u001b[1;31mKeyboardInterrupt\u001b[0m                         Traceback (most recent call last)",
      "Cell \u001b[1;32mIn[3], line 13\u001b[0m\n\u001b[0;32m     11\u001b[0m td_lambda \u001b[38;5;241m=\u001b[39m TemporalDifference(env)\n\u001b[0;32m     12\u001b[0m \u001b[38;5;66;03m# Run hyperparameter tuning\u001b[39;00m\n\u001b[1;32m---> 13\u001b[0m best_agent, best_params \u001b[38;5;241m=\u001b[39m \u001b[43mtd_lambda\u001b[49m\u001b[38;5;241;43m.\u001b[39;49m\u001b[43mhyperparameter_tuning\u001b[49m\u001b[43m(\u001b[49m\u001b[43mhyperparameter_space\u001b[49m\u001b[38;5;241;43m=\u001b[39;49m\u001b[43mhyperparameter_space\u001b[49m\u001b[43m,\u001b[49m\u001b[43m \u001b[49m\u001b[43mepisodes\u001b[49m\u001b[38;5;241;43m=\u001b[39;49m\u001b[43mepisodes\u001b[49m\u001b[43m,\u001b[49m\u001b[43m \u001b[49m\u001b[43mn_trials\u001b[49m\u001b[38;5;241;43m=\u001b[39;49m\u001b[43mtrials\u001b[49m\u001b[43m,\u001b[49m\u001b[43m \u001b[49m\u001b[43mon_policy\u001b[49m\u001b[38;5;241;43m=\u001b[39;49m\u001b[43mon_policy\u001b[49m\u001b[43m)\u001b[49m\n",
      "File \u001b[1;32mc:\\Users\\danie\\OneDrive - Singapore Management University\\SMU Singapore\\Academics\\Aug 2024\\CS609_ReinforcementLearning\\Project\\LaneSwitchRL-Simulation\\notebooks\\../src\\task2_agents.py:471\u001b[0m, in \u001b[0;36mTemporalDifference.hyperparameter_tuning\u001b[1;34m(self, hyperparameter_space, episodes, on_policy, n_trials)\u001b[0m\n\u001b[0;32m    469\u001b[0m \u001b[38;5;66;03m# Create a study and optimize the objective function\u001b[39;00m\n\u001b[0;32m    470\u001b[0m study \u001b[38;5;241m=\u001b[39m optuna\u001b[38;5;241m.\u001b[39mcreate_study(direction\u001b[38;5;241m=\u001b[39m\u001b[38;5;124m\"\u001b[39m\u001b[38;5;124mmaximize\u001b[39m\u001b[38;5;124m\"\u001b[39m)\n\u001b[1;32m--> 471\u001b[0m \u001b[43mstudy\u001b[49m\u001b[38;5;241;43m.\u001b[39;49m\u001b[43moptimize\u001b[49m\u001b[43m(\u001b[49m\u001b[43mobjective\u001b[49m\u001b[43m,\u001b[49m\u001b[43m \u001b[49m\u001b[43mn_trials\u001b[49m\u001b[38;5;241;43m=\u001b[39;49m\u001b[43mn_trials\u001b[49m\u001b[43m)\u001b[49m\n\u001b[0;32m    473\u001b[0m \u001b[38;5;66;03m# Retrieve the best hyperparameters and best average reward\u001b[39;00m\n\u001b[0;32m    474\u001b[0m best_params \u001b[38;5;241m=\u001b[39m study\u001b[38;5;241m.\u001b[39mbest_params\n",
      "File \u001b[1;32mc:\\Users\\danie\\OneDrive - Singapore Management University\\SMU Singapore\\Academics\\Aug 2024\\CS609_ReinforcementLearning\\Project\\LaneSwitchRL-Simulation\\.venv\\Lib\\site-packages\\optuna\\study\\study.py:475\u001b[0m, in \u001b[0;36mStudy.optimize\u001b[1;34m(self, func, n_trials, timeout, n_jobs, catch, callbacks, gc_after_trial, show_progress_bar)\u001b[0m\n\u001b[0;32m    373\u001b[0m \u001b[38;5;28;01mdef\u001b[39;00m \u001b[38;5;21moptimize\u001b[39m(\n\u001b[0;32m    374\u001b[0m     \u001b[38;5;28mself\u001b[39m,\n\u001b[0;32m    375\u001b[0m     func: ObjectiveFuncType,\n\u001b[1;32m   (...)\u001b[0m\n\u001b[0;32m    382\u001b[0m     show_progress_bar: \u001b[38;5;28mbool\u001b[39m \u001b[38;5;241m=\u001b[39m \u001b[38;5;28;01mFalse\u001b[39;00m,\n\u001b[0;32m    383\u001b[0m ) \u001b[38;5;241m-\u001b[39m\u001b[38;5;241m>\u001b[39m \u001b[38;5;28;01mNone\u001b[39;00m:\n\u001b[0;32m    384\u001b[0m \u001b[38;5;250m    \u001b[39m\u001b[38;5;124;03m\"\"\"Optimize an objective function.\u001b[39;00m\n\u001b[0;32m    385\u001b[0m \n\u001b[0;32m    386\u001b[0m \u001b[38;5;124;03m    Optimization is done by choosing a suitable set of hyperparameter values from a given\u001b[39;00m\n\u001b[1;32m   (...)\u001b[0m\n\u001b[0;32m    473\u001b[0m \u001b[38;5;124;03m            If nested invocation of this method occurs.\u001b[39;00m\n\u001b[0;32m    474\u001b[0m \u001b[38;5;124;03m    \"\"\"\u001b[39;00m\n\u001b[1;32m--> 475\u001b[0m     \u001b[43m_optimize\u001b[49m\u001b[43m(\u001b[49m\n\u001b[0;32m    476\u001b[0m \u001b[43m        \u001b[49m\u001b[43mstudy\u001b[49m\u001b[38;5;241;43m=\u001b[39;49m\u001b[38;5;28;43mself\u001b[39;49m\u001b[43m,\u001b[49m\n\u001b[0;32m    477\u001b[0m \u001b[43m        \u001b[49m\u001b[43mfunc\u001b[49m\u001b[38;5;241;43m=\u001b[39;49m\u001b[43mfunc\u001b[49m\u001b[43m,\u001b[49m\n\u001b[0;32m    478\u001b[0m \u001b[43m        \u001b[49m\u001b[43mn_trials\u001b[49m\u001b[38;5;241;43m=\u001b[39;49m\u001b[43mn_trials\u001b[49m\u001b[43m,\u001b[49m\n\u001b[0;32m    479\u001b[0m \u001b[43m        \u001b[49m\u001b[43mtimeout\u001b[49m\u001b[38;5;241;43m=\u001b[39;49m\u001b[43mtimeout\u001b[49m\u001b[43m,\u001b[49m\n\u001b[0;32m    480\u001b[0m \u001b[43m        \u001b[49m\u001b[43mn_jobs\u001b[49m\u001b[38;5;241;43m=\u001b[39;49m\u001b[43mn_jobs\u001b[49m\u001b[43m,\u001b[49m\n\u001b[0;32m    481\u001b[0m \u001b[43m        \u001b[49m\u001b[43mcatch\u001b[49m\u001b[38;5;241;43m=\u001b[39;49m\u001b[38;5;28;43mtuple\u001b[39;49m\u001b[43m(\u001b[49m\u001b[43mcatch\u001b[49m\u001b[43m)\u001b[49m\u001b[43m \u001b[49m\u001b[38;5;28;43;01mif\u001b[39;49;00m\u001b[43m \u001b[49m\u001b[38;5;28;43misinstance\u001b[39;49m\u001b[43m(\u001b[49m\u001b[43mcatch\u001b[49m\u001b[43m,\u001b[49m\u001b[43m \u001b[49m\u001b[43mIterable\u001b[49m\u001b[43m)\u001b[49m\u001b[43m \u001b[49m\u001b[38;5;28;43;01melse\u001b[39;49;00m\u001b[43m \u001b[49m\u001b[43m(\u001b[49m\u001b[43mcatch\u001b[49m\u001b[43m,\u001b[49m\u001b[43m)\u001b[49m\u001b[43m,\u001b[49m\n\u001b[0;32m    482\u001b[0m \u001b[43m        \u001b[49m\u001b[43mcallbacks\u001b[49m\u001b[38;5;241;43m=\u001b[39;49m\u001b[43mcallbacks\u001b[49m\u001b[43m,\u001b[49m\n\u001b[0;32m    483\u001b[0m \u001b[43m        \u001b[49m\u001b[43mgc_after_trial\u001b[49m\u001b[38;5;241;43m=\u001b[39;49m\u001b[43mgc_after_trial\u001b[49m\u001b[43m,\u001b[49m\n\u001b[0;32m    484\u001b[0m \u001b[43m        \u001b[49m\u001b[43mshow_progress_bar\u001b[49m\u001b[38;5;241;43m=\u001b[39;49m\u001b[43mshow_progress_bar\u001b[49m\u001b[43m,\u001b[49m\n\u001b[0;32m    485\u001b[0m \u001b[43m    \u001b[49m\u001b[43m)\u001b[49m\n",
      "File \u001b[1;32mc:\\Users\\danie\\OneDrive - Singapore Management University\\SMU Singapore\\Academics\\Aug 2024\\CS609_ReinforcementLearning\\Project\\LaneSwitchRL-Simulation\\.venv\\Lib\\site-packages\\optuna\\study\\_optimize.py:63\u001b[0m, in \u001b[0;36m_optimize\u001b[1;34m(study, func, n_trials, timeout, n_jobs, catch, callbacks, gc_after_trial, show_progress_bar)\u001b[0m\n\u001b[0;32m     61\u001b[0m \u001b[38;5;28;01mtry\u001b[39;00m:\n\u001b[0;32m     62\u001b[0m     \u001b[38;5;28;01mif\u001b[39;00m n_jobs \u001b[38;5;241m==\u001b[39m \u001b[38;5;241m1\u001b[39m:\n\u001b[1;32m---> 63\u001b[0m         \u001b[43m_optimize_sequential\u001b[49m\u001b[43m(\u001b[49m\n\u001b[0;32m     64\u001b[0m \u001b[43m            \u001b[49m\u001b[43mstudy\u001b[49m\u001b[43m,\u001b[49m\n\u001b[0;32m     65\u001b[0m \u001b[43m            \u001b[49m\u001b[43mfunc\u001b[49m\u001b[43m,\u001b[49m\n\u001b[0;32m     66\u001b[0m \u001b[43m            \u001b[49m\u001b[43mn_trials\u001b[49m\u001b[43m,\u001b[49m\n\u001b[0;32m     67\u001b[0m \u001b[43m            \u001b[49m\u001b[43mtimeout\u001b[49m\u001b[43m,\u001b[49m\n\u001b[0;32m     68\u001b[0m \u001b[43m            \u001b[49m\u001b[43mcatch\u001b[49m\u001b[43m,\u001b[49m\n\u001b[0;32m     69\u001b[0m \u001b[43m            \u001b[49m\u001b[43mcallbacks\u001b[49m\u001b[43m,\u001b[49m\n\u001b[0;32m     70\u001b[0m \u001b[43m            \u001b[49m\u001b[43mgc_after_trial\u001b[49m\u001b[43m,\u001b[49m\n\u001b[0;32m     71\u001b[0m \u001b[43m            \u001b[49m\u001b[43mreseed_sampler_rng\u001b[49m\u001b[38;5;241;43m=\u001b[39;49m\u001b[38;5;28;43;01mFalse\u001b[39;49;00m\u001b[43m,\u001b[49m\n\u001b[0;32m     72\u001b[0m \u001b[43m            \u001b[49m\u001b[43mtime_start\u001b[49m\u001b[38;5;241;43m=\u001b[39;49m\u001b[38;5;28;43;01mNone\u001b[39;49;00m\u001b[43m,\u001b[49m\n\u001b[0;32m     73\u001b[0m \u001b[43m            \u001b[49m\u001b[43mprogress_bar\u001b[49m\u001b[38;5;241;43m=\u001b[39;49m\u001b[43mprogress_bar\u001b[49m\u001b[43m,\u001b[49m\n\u001b[0;32m     74\u001b[0m \u001b[43m        \u001b[49m\u001b[43m)\u001b[49m\n\u001b[0;32m     75\u001b[0m     \u001b[38;5;28;01melse\u001b[39;00m:\n\u001b[0;32m     76\u001b[0m         \u001b[38;5;28;01mif\u001b[39;00m n_jobs \u001b[38;5;241m==\u001b[39m \u001b[38;5;241m-\u001b[39m\u001b[38;5;241m1\u001b[39m:\n",
      "File \u001b[1;32mc:\\Users\\danie\\OneDrive - Singapore Management University\\SMU Singapore\\Academics\\Aug 2024\\CS609_ReinforcementLearning\\Project\\LaneSwitchRL-Simulation\\.venv\\Lib\\site-packages\\optuna\\study\\_optimize.py:160\u001b[0m, in \u001b[0;36m_optimize_sequential\u001b[1;34m(study, func, n_trials, timeout, catch, callbacks, gc_after_trial, reseed_sampler_rng, time_start, progress_bar)\u001b[0m\n\u001b[0;32m    157\u001b[0m         \u001b[38;5;28;01mbreak\u001b[39;00m\n\u001b[0;32m    159\u001b[0m \u001b[38;5;28;01mtry\u001b[39;00m:\n\u001b[1;32m--> 160\u001b[0m     frozen_trial \u001b[38;5;241m=\u001b[39m \u001b[43m_run_trial\u001b[49m\u001b[43m(\u001b[49m\u001b[43mstudy\u001b[49m\u001b[43m,\u001b[49m\u001b[43m \u001b[49m\u001b[43mfunc\u001b[49m\u001b[43m,\u001b[49m\u001b[43m \u001b[49m\u001b[43mcatch\u001b[49m\u001b[43m)\u001b[49m\n\u001b[0;32m    161\u001b[0m \u001b[38;5;28;01mfinally\u001b[39;00m:\n\u001b[0;32m    162\u001b[0m     \u001b[38;5;66;03m# The following line mitigates memory problems that can be occurred in some\u001b[39;00m\n\u001b[0;32m    163\u001b[0m     \u001b[38;5;66;03m# environments (e.g., services that use computing containers such as GitHub Actions).\u001b[39;00m\n\u001b[0;32m    164\u001b[0m     \u001b[38;5;66;03m# Please refer to the following PR for further details:\u001b[39;00m\n\u001b[0;32m    165\u001b[0m     \u001b[38;5;66;03m# https://github.com/optuna/optuna/pull/325.\u001b[39;00m\n\u001b[0;32m    166\u001b[0m     \u001b[38;5;28;01mif\u001b[39;00m gc_after_trial:\n",
      "File \u001b[1;32mc:\\Users\\danie\\OneDrive - Singapore Management University\\SMU Singapore\\Academics\\Aug 2024\\CS609_ReinforcementLearning\\Project\\LaneSwitchRL-Simulation\\.venv\\Lib\\site-packages\\optuna\\study\\_optimize.py:248\u001b[0m, in \u001b[0;36m_run_trial\u001b[1;34m(study, func, catch)\u001b[0m\n\u001b[0;32m    241\u001b[0m         \u001b[38;5;28;01massert\u001b[39;00m \u001b[38;5;28;01mFalse\u001b[39;00m, \u001b[38;5;124m\"\u001b[39m\u001b[38;5;124mShould not reach.\u001b[39m\u001b[38;5;124m\"\u001b[39m\n\u001b[0;32m    243\u001b[0m \u001b[38;5;28;01mif\u001b[39;00m (\n\u001b[0;32m    244\u001b[0m     frozen_trial\u001b[38;5;241m.\u001b[39mstate \u001b[38;5;241m==\u001b[39m TrialState\u001b[38;5;241m.\u001b[39mFAIL\n\u001b[0;32m    245\u001b[0m     \u001b[38;5;129;01mand\u001b[39;00m func_err \u001b[38;5;129;01mis\u001b[39;00m \u001b[38;5;129;01mnot\u001b[39;00m \u001b[38;5;28;01mNone\u001b[39;00m\n\u001b[0;32m    246\u001b[0m     \u001b[38;5;129;01mand\u001b[39;00m \u001b[38;5;129;01mnot\u001b[39;00m \u001b[38;5;28misinstance\u001b[39m(func_err, catch)\n\u001b[0;32m    247\u001b[0m ):\n\u001b[1;32m--> 248\u001b[0m     \u001b[38;5;28;01mraise\u001b[39;00m func_err\n\u001b[0;32m    249\u001b[0m \u001b[38;5;28;01mreturn\u001b[39;00m frozen_trial\n",
      "File \u001b[1;32mc:\\Users\\danie\\OneDrive - Singapore Management University\\SMU Singapore\\Academics\\Aug 2024\\CS609_ReinforcementLearning\\Project\\LaneSwitchRL-Simulation\\.venv\\Lib\\site-packages\\optuna\\study\\_optimize.py:197\u001b[0m, in \u001b[0;36m_run_trial\u001b[1;34m(study, func, catch)\u001b[0m\n\u001b[0;32m    195\u001b[0m \u001b[38;5;28;01mwith\u001b[39;00m get_heartbeat_thread(trial\u001b[38;5;241m.\u001b[39m_trial_id, study\u001b[38;5;241m.\u001b[39m_storage):\n\u001b[0;32m    196\u001b[0m     \u001b[38;5;28;01mtry\u001b[39;00m:\n\u001b[1;32m--> 197\u001b[0m         value_or_values \u001b[38;5;241m=\u001b[39m \u001b[43mfunc\u001b[49m\u001b[43m(\u001b[49m\u001b[43mtrial\u001b[49m\u001b[43m)\u001b[49m\n\u001b[0;32m    198\u001b[0m     \u001b[38;5;28;01mexcept\u001b[39;00m exceptions\u001b[38;5;241m.\u001b[39mTrialPruned \u001b[38;5;28;01mas\u001b[39;00m e:\n\u001b[0;32m    199\u001b[0m         \u001b[38;5;66;03m# TODO(mamu): Handle multi-objective cases.\u001b[39;00m\n\u001b[0;32m    200\u001b[0m         state \u001b[38;5;241m=\u001b[39m TrialState\u001b[38;5;241m.\u001b[39mPRUNED\n",
      "File \u001b[1;32mc:\\Users\\danie\\OneDrive - Singapore Management University\\SMU Singapore\\Academics\\Aug 2024\\CS609_ReinforcementLearning\\Project\\LaneSwitchRL-Simulation\\notebooks\\../src\\task2_agents.py:461\u001b[0m, in \u001b[0;36mTemporalDifference.hyperparameter_tuning.<locals>.objective\u001b[1;34m(trial)\u001b[0m\n\u001b[0;32m    458\u001b[0m \u001b[38;5;28mself\u001b[39m\u001b[38;5;241m.\u001b[39mlambd \u001b[38;5;241m=\u001b[39m trial\u001b[38;5;241m.\u001b[39msuggest_float(\u001b[38;5;124m'\u001b[39m\u001b[38;5;124mlambd\u001b[39m\u001b[38;5;124m'\u001b[39m, \u001b[38;5;241m*\u001b[39mhyperparameter_space[\u001b[38;5;124m'\u001b[39m\u001b[38;5;124mlambd\u001b[39m\u001b[38;5;124m'\u001b[39m])\n\u001b[0;32m    460\u001b[0m \u001b[38;5;66;03m# Train the agent with the current hyperparameters\u001b[39;00m\n\u001b[1;32m--> 461\u001b[0m rewards, _ \u001b[38;5;241m=\u001b[39m \u001b[38;5;28mself\u001b[39m\u001b[38;5;241m.\u001b[39mtrain(num_episodes\u001b[38;5;241m=\u001b[39mepisodes, on_policy \u001b[38;5;241m=\u001b[39m on_policy)\n\u001b[0;32m    463\u001b[0m \u001b[38;5;66;03m# Calculate the average reward over the last 1000 episodes\u001b[39;00m\n\u001b[0;32m    464\u001b[0m average_reward \u001b[38;5;241m=\u001b[39m np\u001b[38;5;241m.\u001b[39mmean(rewards[\u001b[38;5;241m-\u001b[39m\u001b[38;5;241m500\u001b[39m:])\n",
      "File \u001b[1;32mc:\\Users\\danie\\OneDrive - Singapore Management University\\SMU Singapore\\Academics\\Aug 2024\\CS609_ReinforcementLearning\\Project\\LaneSwitchRL-Simulation\\notebooks\\../src\\task2_agents.py:161\u001b[0m, in \u001b[0;36mTemporalDifference.train\u001b[1;34m(self, num_episodes, on_policy, save_model)\u001b[0m\n\u001b[0;32m    158\u001b[0m episode_reward \u001b[38;5;241m+\u001b[39m\u001b[38;5;241m=\u001b[39m reward\n\u001b[0;32m    160\u001b[0m \u001b[38;5;66;03m#get next state and action\u001b[39;00m\n\u001b[1;32m--> 161\u001b[0m next_action \u001b[38;5;241m=\u001b[39m \u001b[38;5;28;43mself\u001b[39;49m\u001b[38;5;241;43m.\u001b[39;49m\u001b[43mepsilon_greedy_policy\u001b[49m\u001b[43m(\u001b[49m\u001b[43mnext_state\u001b[49m\u001b[43m)\u001b[49m\n\u001b[0;32m    163\u001b[0m \u001b[38;5;66;03m#update tables(dictionaries)\u001b[39;00m\n\u001b[0;32m    164\u001b[0m \u001b[38;5;28;01mif\u001b[39;00m \u001b[38;5;28mself\u001b[39m\u001b[38;5;241m.\u001b[39mlambd \u001b[38;5;241m==\u001b[39m \u001b[38;5;241m1\u001b[39m:\n",
      "File \u001b[1;32mc:\\Users\\danie\\OneDrive - Singapore Management University\\SMU Singapore\\Academics\\Aug 2024\\CS609_ReinforcementLearning\\Project\\LaneSwitchRL-Simulation\\notebooks\\../src\\task2_agents.py:72\u001b[0m, in \u001b[0;36mTemporalDifference.epsilon_greedy_policy\u001b[1;34m(self, state)\u001b[0m\n\u001b[0;32m     70\u001b[0m     \u001b[38;5;28;01mreturn\u001b[39;00m random\u001b[38;5;241m.\u001b[39mrandint(\u001b[38;5;241m0\u001b[39m, \u001b[38;5;28mself\u001b[39m\u001b[38;5;241m.\u001b[39maction_space\u001b[38;5;241m-\u001b[39m\u001b[38;5;241m1\u001b[39m)\n\u001b[0;32m     71\u001b[0m \u001b[38;5;28;01melse\u001b[39;00m:\n\u001b[1;32m---> 72\u001b[0m     \u001b[38;5;28;01mreturn\u001b[39;00m \u001b[38;5;28;43mself\u001b[39;49m\u001b[38;5;241;43m.\u001b[39;49m\u001b[43mget_best_action\u001b[49m\u001b[43m(\u001b[49m\u001b[43mstate\u001b[49m\u001b[43m)\u001b[49m\n",
      "File \u001b[1;32mc:\\Users\\danie\\OneDrive - Singapore Management University\\SMU Singapore\\Academics\\Aug 2024\\CS609_ReinforcementLearning\\Project\\LaneSwitchRL-Simulation\\notebooks\\../src\\task2_agents.py:55\u001b[0m, in \u001b[0;36mTemporalDifference.get_best_action\u001b[1;34m(self, state)\u001b[0m\n\u001b[0;32m     52\u001b[0m     random\u001b[38;5;241m.\u001b[39mseed(seed)\n\u001b[0;32m     53\u001b[0m     np\u001b[38;5;241m.\u001b[39mrandom\u001b[38;5;241m.\u001b[39mseed(seed)\n\u001b[1;32m---> 55\u001b[0m \u001b[38;5;28;01mdef\u001b[39;00m \u001b[38;5;21mget_best_action\u001b[39m(\u001b[38;5;28mself\u001b[39m, state: \u001b[38;5;28mtuple\u001b[39m):\n\u001b[0;32m     56\u001b[0m     \u001b[38;5;66;03m# if state not present, act random\u001b[39;00m\n\u001b[0;32m     57\u001b[0m     \u001b[38;5;28;01mif\u001b[39;00m state \u001b[38;5;129;01mnot\u001b[39;00m \u001b[38;5;129;01min\u001b[39;00m \u001b[38;5;28mself\u001b[39m\u001b[38;5;241m.\u001b[39mQ\u001b[38;5;241m.\u001b[39mkeys():\n\u001b[0;32m     58\u001b[0m         \u001b[38;5;28mself\u001b[39m\u001b[38;5;241m.\u001b[39mEnv\u001b[38;5;241m.\u001b[39m_log(\u001b[38;5;124mf\u001b[39m\u001b[38;5;124m\"\u001b[39m\u001b[38;5;124mState not found in Q: \u001b[39m\u001b[38;5;132;01m{\u001b[39;00mstate\u001b[38;5;132;01m}\u001b[39;00m\u001b[38;5;124m\"\u001b[39m)\n",
      "\u001b[1;31mKeyboardInterrupt\u001b[0m: "
     ]
    }
   ],
   "source": [
    "episodes = 500\n",
    "trials = 30\n",
    "on_policy = False\n",
    "hyperparameter_space = {\n",
    "    'alpha': [1e-4, 1e-2],           # Learning rate range (log scale)\n",
    "    'gamma': [0.1, 0.99],            # Discount factor range\n",
    "    'epsilon_min': [0.01, 0.1],      # Minimum epsilon range\n",
    "    'lambd': [0, 0.9]             # Lambda range for eligibility traces\n",
    "}\n",
    "env = CustomTrafficEnvironment(max_time_steps=10000, logging_enabled=False, seed=seed)\n",
    "td_lambda = TemporalDifference(env)\n",
    "# Run hyperparameter tuning\n",
    "best_agent, best_params = td_lambda.hyperparameter_tuning(hyperparameter_space=hyperparameter_space, episodes=episodes, n_trials=trials, on_policy=on_policy)"
   ]
  }
 ],
 "metadata": {
  "kernelspec": {
   "display_name": ".venv",
   "language": "python",
   "name": "python3"
  },
  "language_info": {
   "codemirror_mode": {
    "name": "ipython",
    "version": 3
   },
   "file_extension": ".py",
   "mimetype": "text/x-python",
   "name": "python",
   "nbconvert_exporter": "python",
   "pygments_lexer": "ipython3",
   "version": "3.12.6"
  }
 },
 "nbformat": 4,
 "nbformat_minor": 2
}
