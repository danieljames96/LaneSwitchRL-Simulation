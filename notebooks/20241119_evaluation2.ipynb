{
 "cells": [
  {
   "cell_type": "code",
   "execution_count": 1,
   "metadata": {
    "id": "uvE5yMkzG8g_"
   },
   "outputs": [],
   "source": [
    "import numpy as np\n",
    "import random\n",
    "import torch\n",
    "import matplotlib.pyplot as plt\n",
    "from copy import deepcopy\n",
    "from tqdm import tqdm\n",
    "np.set_printoptions(precision=3, suppress=True)"
   ]
  },
  {
   "cell_type": "code",
   "execution_count": 2,
   "metadata": {
    "id": "A2_Y3qaSPu3O"
   },
   "outputs": [],
   "source": [
    "### Environment 1 - 5/5% chance per timestep ###\n",
    "class CTE:\n",
    "    def __init__(self, lanes=5, window=30, time_step=10, distance=4000):\n",
    "        self.lanes = lanes\n",
    "        self.window = window\n",
    "        self.time_step = time_step\n",
    "        self.distance = distance\n",
    "        self.reset()\n",
    "\n",
    "\n",
    "    def reset(self):\n",
    "        self.current_time = 0\n",
    "        self.current_lane = 1   # enters the expressway from lane 1\n",
    "        self.clearance_rates = np.random.uniform(\n",
    "            15, 20, self.lanes\n",
    "        )\n",
    "        self.state = []\n",
    "        adjustment = self.clearance_rates[self.current_lane-1]\n",
    "        self.state = [\n",
    "            (self.distance+2*adjustment, self.current_lane, *self.clearance_rates),\n",
    "            (self.distance+adjustment, self.current_lane, *self.clearance_rates),\n",
    "            (self.distance, self.current_lane, *self.clearance_rates)\n",
    "        ]\n",
    "        return self.get_state()\n",
    "\n",
    "\n",
    "    def get_state(self):\n",
    "        return [\n",
    "            tuple(round(value, 2) if isinstance(value, float) else value for value in tup) \\\n",
    "            for tup in self.state\n",
    "        ]\n",
    "\n",
    "\n",
    "    def _update_traffic(self):\n",
    "        changes = np.zeros(self.lanes)\n",
    "\n",
    "        # simulate significant events\n",
    "        rng = np.random.rand()\n",
    "        event_lane = np.random.randint(0, self.lanes)\n",
    "        if rng < 0.05:\n",
    "            changes[event_lane] -= np.random.uniform(0.20,0.50) * deepcopy(self.clearance_rates[event_lane])\n",
    "        elif rng < 0.10:\n",
    "            changes[event_lane] += np.random.uniform(0.20,0.40) * deepcopy(self.clearance_rates[event_lane])\n",
    "\n",
    "        for j in range(self.lanes):\n",
    "            left_neighbor = self.clearance_rates[j-1] if j > 0 \\\n",
    "                else None\n",
    "            right_neighbor = self.clearance_rates[j+1] if j < self.lanes - 1 \\\n",
    "                else None\n",
    "            left_diff = 0 if left_neighbor is None \\\n",
    "                else np.sign(left_neighbor - self.clearance_rates[j]) * 0.2\n",
    "            right_diff = 0 if right_neighbor is None \\\n",
    "                else np.sign(right_neighbor - self.clearance_rates[j]) * 0.2\n",
    "            changes[j] += np.random.normal(0, 0.1) + left_diff + right_diff\n",
    "\n",
    "        self.clearance_rates += changes    # performed outside loop so that the change is not sequential across lanes\n",
    "\n",
    "\n",
    "    def _update_pos(self):\n",
    "        new_distance = self.state[-1][0] - self.clearance_rates[self.current_lane-1]\n",
    "        # lane 1 is at index 0, lane 5 at index 4\n",
    "        new_observation = (new_distance, self.current_lane, *self.clearance_rates)\n",
    "        self.current_time += self.time_step\n",
    "        self.state.pop(0)  # remove observation outside window\n",
    "        self.state.append(new_observation)\n",
    "\n",
    "\n",
    "    def transition(self, action=0):\n",
    "        \"\"\"\n",
    "        Args:\n",
    "            action (int): -1 to switch left, 0 to stay (default), 1 to switch right\n",
    "                          if action is -1 or 1, only 50% chance of success\n",
    "        \"\"\"\n",
    "        reward = self.clearance_rates[self.current_lane-1] - 10\n",
    "\n",
    "        if action != 0:\n",
    "            reward -= 5   # penalty for attempting to change, regardless of success\n",
    "\n",
    "            if np.random.rand() < 0.5:\n",
    "                if action == -1 and self.current_lane > 1:\n",
    "                    self.current_lane -= 1\n",
    "                elif action == 1 and self.current_lane < self.lanes:\n",
    "                    self.current_lane += 1\n",
    "\n",
    "        self._update_traffic()\n",
    "        self._update_pos()\n",
    "        return self.get_state(), round(reward, 3)\n",
    "\n",
    "\n",
    "### Environment 2 - 5/5% chance per lane per timestep ###\n",
    "class PIE(CTE):\n",
    "    def __init__(self, lanes=5, window=30, time_step=10, distance=4000):\n",
    "        super().__init__(lanes, window, time_step, distance)\n",
    "\n",
    "    def reset(self):\n",
    "        super().reset()\n",
    "\n",
    "    def _update_traffic(self):\n",
    "        changes = np.zeros(self.lanes)\n",
    "\n",
    "        # simulate significant events\n",
    "        for lane in range(0, self.lanes):\n",
    "            rng = np.random.rand()\n",
    "            if rng < 0.05:\n",
    "                changes[lane] -= np.random.uniform(0.20,0.50) * deepcopy(self.clearance_rates[lane])\n",
    "            elif rng < 0.10:\n",
    "                changes[lane] += np.random.uniform(0.20,0.40) * deepcopy(self.clearance_rates[lane])\n",
    "\n",
    "        for j in range(self.lanes):\n",
    "            left_neighbor = self.clearance_rates[j-1] if j > 0 \\\n",
    "                else None\n",
    "            right_neighbor = self.clearance_rates[j+1] if j < self.lanes - 1 \\\n",
    "                else None\n",
    "            left_diff = 0 if left_neighbor is None \\\n",
    "                else np.sign(left_neighbor - self.clearance_rates[j]) * 0.2\n",
    "            right_diff = 0 if right_neighbor is None \\\n",
    "                else np.sign(right_neighbor - self.clearance_rates[j]) * 0.2\n",
    "            changes[j] += np.random.normal(0, 0.1) + left_diff + right_diff\n",
    "\n",
    "        self.clearance_rates += changes    # performed outside loop so that the change is not sequential across lanes\n",
    "\n",
    "\n",
    "\n",
    "class MyopicAgent:\n",
    "    def __init__(self):\n",
    "        pass\n",
    "\n",
    "    def act(self, state):\n",
    "        latest = state[-1]\n",
    "        current_dist = latest[0]\n",
    "        current_lane = latest[1]\n",
    "        clearance_rates = latest[2:]\n",
    "        best_lane = np.argmax(clearance_rates) + 1\n",
    "\n",
    "        if best_lane < current_lane:\n",
    "            return -1\n",
    "        elif best_lane > current_lane:\n",
    "            return 1\n",
    "        else:\n",
    "            return 0\n",
    "\n",
    "\n",
    "class RandomAgent:\n",
    "    def __init__(self):\n",
    "        pass\n",
    "\n",
    "    def act(self, state):\n",
    "        return np.random.randint(3)-1   # -1/0/1"
   ]
  },
  {
   "cell_type": "code",
   "execution_count": 3,
   "metadata": {
    "id": "6mFVSdibP8YU"
   },
   "outputs": [],
   "source": [
    "def generate_history_CTE(n_steps=1000):\n",
    "    agent = MyopicAgent()\n",
    "    env = CTE(distance=4000)\n",
    "    state = env.get_state()\n",
    "\n",
    "    common_history = [state]\n",
    "    for step in range(n_steps):   # use more than necessary to be safe\n",
    "        action = agent.act(state)\n",
    "        state, reward = env.transition(action)\n",
    "        common_history.append(state)\n",
    "\n",
    "    return common_history\n",
    "\n",
    "\n",
    "def generate_history_PIE(n_steps=2000):\n",
    "    agent = MyopicAgent()\n",
    "    env = PIE(distance=4000)\n",
    "    state = env.get_state()\n",
    "\n",
    "    common_history = [state]\n",
    "    for step in range(n_steps):   # use more than necessary to be safe\n",
    "        action = agent.act(state)\n",
    "        state, reward = env.transition(action)\n",
    "        common_history.append(state)\n",
    "\n",
    "    return common_history"
   ]
  },
  {
   "cell_type": "code",
   "execution_count": 4,
   "metadata": {
    "id": "aTBwn2ngQAUJ"
   },
   "outputs": [],
   "source": [
    "def merge(current_lane, previous_state, latest_state, action):\n",
    "    \"\"\"\n",
    "    Args:\n",
    "        current_lane (int)\n",
    "        previous_state: [(dt-3, ...), (dt-2, ...), (dt-1, ...)]\n",
    "        latest_state: tuple of 7 numbers where last 5 shows clearance rate (dt, lt, vt1, vt2, vt3, vt4, vt5)\n",
    "        action (int)\n",
    "    \"\"\"\n",
    "    lane = current_lane\n",
    "    travelled = latest_state[lane+1]   # lane 1 corresponds to index 2\n",
    "    reward = travelled - 10\n",
    "\n",
    "    if action != 0:\n",
    "        reward -= 5   # penalty for attempting to change, regardless of success\n",
    "        if np.random.rand() < 0.5:\n",
    "            if action == -1 and lane > 1:\n",
    "                lane -= 1\n",
    "            elif action == 1 and lane < 5:\n",
    "                lane += 1\n",
    "\n",
    "    pos = round(previous_state[-1][0] - travelled, 3)\n",
    "    vt1, vt2, vt3, vt4, vt5 = latest_state[2:]\n",
    "    adjusted_state = previous_state[1:] + [(pos, lane, vt1, vt2, vt3, vt4, vt5)]  # append list-of-2-tuples to list-of-1-tuple\n",
    "\n",
    "    return adjusted_state, lane, reward"
   ]
  },
  {
   "cell_type": "code",
   "execution_count": 5,
   "metadata": {
    "colab": {
     "base_uri": "https://localhost:8080/",
     "height": 465
    },
    "id": "hWNTD7-eQDaC",
    "outputId": "c023e6e9-946b-4c4c-f327-e81231975560"
   },
   "outputs": [
    {
     "name": "stderr",
     "output_type": "stream",
     "text": [
      "100%|████████████████████████████████████████████████████████████████████████████████| 500/500 [01:13<00:00,  6.79it/s]\n"
     ]
    },
    {
     "data": {
      "image/png": "[encoded data removed]",
      "text/plain": [
       "<Figure size 640x480 with 1 Axes>"
      ]
     },
     "metadata": {},
     "output_type": "display_data"
    },
    {
     "name": "stdout",
     "output_type": "stream",
     "text": [
      "[(1038.552, 948.96878099124, 1222.0), (480.402, 1068.2707299163446, 725.5)]\n"
     ]
    }
   ],
   "source": [
    "random.seed(609)\n",
    "np.random.seed(609)\n",
    "torch.manual_seed(609)\n",
    "\n",
    "agents = {\n",
    "    'Agent1': MyopicAgent(),\n",
    "    'Agent2': RandomAgent(),\n",
    "}\n",
    "\n",
    "results_CTE = {agent_name: [] for agent_name in agents.keys()}\n",
    "results_PIE = {agent_name: [] for agent_name in agents.keys()}\n",
    "\n",
    "### Environment 1 ###\n",
    "for simulation in tqdm(range(500)):\n",
    "    ## fix a random trajectory and starting lane to be applied to all agents\n",
    "    common_history = generate_history_CTE(n_steps=1000)\n",
    "    initial_lane = 1+np.random.randint(4)\n",
    "    initial_state = common_history[0]\n",
    "\n",
    "    for agent_name, agent in agents.items():\n",
    "        #print(\"\\nPerforming evaluation for %s\" % agent_name)\n",
    "        G = 0\n",
    "        current_lane = deepcopy(initial_lane)\n",
    "        previous_state = deepcopy(initial_state)\n",
    "        action = agent.act(initial_state)\n",
    "\n",
    "        # simulate one episode and compute reward\n",
    "        for i, state in enumerate(common_history[1:]):\n",
    "            adjusted_state, lane, reward = \\\n",
    "                merge(current_lane, previous_state, state[-1], action)\n",
    "\n",
    "            G += reward\n",
    "            previous_state = deepcopy(adjusted_state)\n",
    "            current_lane = deepcopy(lane)\n",
    "            action = agent.act(adjusted_state)   # applied to the next step\n",
    "\n",
    "            if previous_state[-1][0] < 0:   # reached finish point\n",
    "                break\n",
    "\n",
    "        results_CTE[agent_name].append(int(G))\n",
    "\n",
    "\n",
    "plt.boxplot(results_CTE.values())\n",
    "plt.xticks(range(1, len(results_CTE)+1), results_CTE.keys())\n",
    "plt.show()\n",
    "\n",
    "print([(np.mean(x), np.std(x), np.median(x)) for x in results_CTE.values()])"
   ]
  },
  {
   "cell_type": "code",
   "execution_count": 6,
   "metadata": {
    "colab": {
     "base_uri": "https://localhost:8080/",
     "height": 467
    },
    "id": "rrwrDtnUTtj5",
    "outputId": "4da400df-6df3-4259-9d73-f574bc4eb437"
   },
   "outputs": [
    {
     "name": "stderr",
     "output_type": "stream",
     "text": [
      "100%|████████████████████████████████████████████████████████████████████████████████| 500/500 [01:23<00:00,  5.96it/s]\n"
     ]
    },
    {
     "data": {
      "image/png": "[encoded data removed]",
      "text/plain": [
       "<Figure size 640x480 with 1 Axes>"
      ]
     },
     "metadata": {},
     "output_type": "display_data"
    },
    {
     "name": "stdout",
     "output_type": "stream",
     "text": [
      "[(-1550.56, 5031.896809991238, 1044.5), (-4369.696, 5089.524862655059, -2768.5)]\n"
     ]
    }
   ],
   "source": [
    "random.seed(609)\n",
    "np.random.seed(609)\n",
    "torch.manual_seed(609)\n",
    "\n",
    "### Environment 2 ###\n",
    "for simulation in tqdm(range(500)):\n",
    "    ## fix a random trajectory and starting lane to be applied to all agents\n",
    "    common_history = generate_history_PIE(n_steps=1000)\n",
    "    initial_lane = 1+np.random.randint(4)\n",
    "    initial_state = common_history[0]\n",
    "\n",
    "    for agent_name, agent in agents.items():\n",
    "        #print(\"\\nPerforming evaluation for %s\" % agent_name)\n",
    "        G = 0\n",
    "        current_lane = deepcopy(initial_lane)\n",
    "        previous_state = deepcopy(initial_state)\n",
    "        action = agent.act(initial_state)\n",
    "\n",
    "        # simulate one episode and compute reward\n",
    "        for i, state in enumerate(common_history[1:]):\n",
    "            adjusted_state, lane, reward = \\\n",
    "                merge(current_lane, previous_state, state[-1], action)\n",
    "\n",
    "            G += reward\n",
    "            previous_state = deepcopy(adjusted_state)\n",
    "            current_lane = deepcopy(lane)\n",
    "            action = agent.act(adjusted_state)   # applied to the next step\n",
    "\n",
    "            if previous_state[-1][0] < 0:   # reached finish point\n",
    "                break\n",
    "\n",
    "        results_PIE[agent_name].append(int(G))\n",
    "\n",
    "\n",
    "plt.boxplot(results_PIE.values())\n",
    "plt.xticks(range(1, len(results_PIE)+1), results_PIE.keys())\n",
    "plt.show()\n",
    "\n",
    "print([(np.mean(x), np.std(x), np.median(x)) for x in results_PIE.values()])\n"
   ]
  },
  {
   "cell_type": "code",
   "execution_count": null,
   "metadata": {
    "id": "Rg82GnW8rkoB"
   },
   "outputs": [],
   "source": []
  },
  {
   "cell_type": "markdown",
   "metadata": {
    "id": "pq3UGAH6Tk7l"
   },
   "source": [
    "### Group 1"
   ]
  },
  {
   "cell_type": "code",
   "execution_count": null,
   "metadata": {
    "id": "eI4v14j0rkoD"
   },
   "outputs": [],
   "source": []
  },
  {
   "cell_type": "markdown",
   "metadata": {
    "id": "ibe-07XmrkoD"
   },
   "source": [
    "### Group 2"
   ]
  },
  {
   "cell_type": "code",
   "execution_count": null,
   "metadata": {
    "id": "IHT2D7ehrkoD"
   },
   "outputs": [],
   "source": []
  },
  {
   "cell_type": "markdown",
   "metadata": {
    "id": "f03Zabv_rkoE"
   },
   "source": [
    "### Group 3"
   ]
  },
  {
   "cell_type": "code",
   "execution_count": null,
   "metadata": {
    "id": "YwI_aTFyrkoE"
   },
   "outputs": [],
   "source": []
  },
  {
   "cell_type": "markdown",
   "metadata": {
    "id": "iuzRB84prkoE"
   },
   "source": [
    "### Group 4"
   ]
  },
  {
   "cell_type": "code",
   "execution_count": null,
   "metadata": {
    "id": "yl-HgxKNrkoE"
   },
   "outputs": [],
   "source": []
  },
  {
   "cell_type": "markdown",
   "metadata": {
    "id": "b9CfYnYVrkoE"
   },
   "source": [
    "### Group 7"
   ]
  },
  {
   "cell_type": "code",
   "execution_count": null,
   "metadata": {
    "id": "IfGJUwrPrkoE"
   },
   "outputs": [],
   "source": []
  },
  {
   "cell_type": "markdown",
   "metadata": {
    "id": "BD2IrJx7rkoE"
   },
   "source": [
    "### Group 8"
   ]
  },
  {
   "cell_type": "code",
   "execution_count": null,
   "metadata": {
    "id": "MIKlxNWyrkoE"
   },
   "outputs": [],
   "source": []
  },
  {
   "cell_type": "markdown",
   "metadata": {
    "id": "ozWVZWnbrkoE"
   },
   "source": [
    "### Group 9"
   ]
  },
  {
   "cell_type": "code",
   "execution_count": null,
   "metadata": {
    "id": "fZjwW_A5rkoE"
   },
   "outputs": [],
   "source": []
  },
  {
   "cell_type": "markdown",
   "metadata": {
    "id": "ryPJxNaUrkoE"
   },
   "source": [
    "### Group 0"
   ]
  },
  {
   "cell_type": "code",
   "execution_count": 7,
   "metadata": {},
   "outputs": [],
   "source": [
    "from stable_baselines3 import PPO\n",
    "from stable_baselines3 import DQN"
   ]
  },
  {
   "cell_type": "code",
   "execution_count": 8,
   "metadata": {},
   "outputs": [],
   "source": [
    "class PPOAgent:\n",
    "    def __init__(self, model_path):\n",
    "        self.model = PPO.load(model_path, device='cpu')\n",
    "\n",
    "    def act(self, state):\n",
    "        \"\"\"\n",
    "        Decide an action based on the PPO model.\n",
    "        Args:\n",
    "            state (list): Current state as expected by the PPO model.\n",
    "        Returns:\n",
    "            int: Action to take (-1, 0, or 1).\n",
    "        \"\"\"\n",
    "        # Convert the state to the format expected by the PPO model\n",
    "        state_array = np.array(state).flatten()\n",
    "        action, _ = self.model.predict(state_array, deterministic=True)\n",
    "        # Map action to -1, 0, or 1 as per evaluation requirements\n",
    "        return action - 1"
   ]
  },
  {
   "cell_type": "code",
   "execution_count": 9,
   "metadata": {},
   "outputs": [],
   "source": [
    "class DQNAgent:\n",
    "    def __init__(self, model_path):\n",
    "        self.model = DQN.load(\n",
    "            model_path,\n",
    "            custom_objects={\"clip_range\": None, \"lr_schedule\": None}\n",
    "        )\n",
    "\n",
    "    def act(self, state):\n",
    "        processed_state = self.preprocess_state(state[-1])\n",
    "        action, _ = self.model.predict(processed_state, deterministic=True)\n",
    "        return action - 1  \n",
    "\n",
    "    def preprocess_state(self, state):\n",
    "        state_array = np.array(state).flatten()\n",
    "        expected_shape = self.model.observation_space.shape[0]\n",
    "        if len(state_array) < expected_shape:\n",
    "            state_array = np.pad(state_array, (0, expected_shape - len(state_array)), mode=\"constant\")\n",
    "        elif len(state_array) > expected_shape:\n",
    "            state_array = state_array[:expected_shape]\n",
    "        return state_array\n"
   ]
  },
  {
   "cell_type": "code",
   "execution_count": 10,
   "metadata": {
    "id": "n8-1zyTSyd77"
   },
   "outputs": [
    {
     "name": "stderr",
     "output_type": "stream",
     "text": [
      "D:\\App\\anaconda3\\Lib\\site-packages\\stable_baselines3\\common\\save_util.py:167: UserWarning: Could not deserialize object clip_range. Consider using `custom_objects` argument to replace this object.\n",
      "Exception: code() argument 13 must be str, not int\n",
      "  warnings.warn(\n",
      "D:\\App\\anaconda3\\Lib\\site-packages\\stable_baselines3\\common\\save_util.py:167: UserWarning: Could not deserialize object lr_schedule. Consider using `custom_objects` argument to replace this object.\n",
      "Exception: code() argument 13 must be str, not int\n",
      "  warnings.warn(\n",
      "100%|████████████████████████████████████████████████████████████████████████████████| 500/500 [03:24<00:00,  2.45it/s]\n",
      "100%|████████████████████████████████████████████████████████████████████████████████| 500/500 [06:26<00:00,  1.29it/s]\n"
     ]
    },
    {
     "data": {
      "image/png": "[encoded data removed]",
      "text/plain": [
       "<Figure size 640x480 with 1 Axes>"
      ]
     },
     "metadata": {},
     "output_type": "display_data"
    },
    {
     "name": "stdout",
     "output_type": "stream",
     "text": [
      "[(1325.764, 716.2744113145463, 1477.0), (1400.572, 718.1025531329074, 1560.5)]\n"
     ]
    },
    {
     "data": {
      "image/png": "[encoded data removed]",
      "text/plain": [
       "<Figure size 640x480 with 1 Axes>"
      ]
     },
     "metadata": {},
     "output_type": "display_data"
    },
    {
     "name": "stdout",
     "output_type": "stream",
     "text": [
      "[(-2416.75, 3856.7064813776014, -1148.0), (-2328.246, 3913.901492051633, -1040.0)]\n"
     ]
    }
   ],
   "source": [
    "\n",
    "##### Load your libraries and define your classes & functions here #####\n",
    "##### Replace here #####\n",
    "\n",
    "agents = {\n",
    "    'PPO': PPOAgent(\"./models/ppo_best_model_task1\"),\n",
    "    'DQN': DQNAgent(\"./models/dqn_best_model_task1\"),  \n",
    "}\n",
    "\n",
    "results = {agent_name: [] for agent_name in agents.keys()}\n",
    "\n",
    "random.seed(609)\n",
    "np.random.seed(609)\n",
    "torch.manual_seed(609)\n",
    "\n",
    "\n",
    "results_CTE = {agent_name: [] for agent_name in agents.keys()}\n",
    "results_PIE = {agent_name: [] for agent_name in agents.keys()}\n",
    "\n",
    "### Environment 1 ###\n",
    "for simulation in tqdm(range(500)):\n",
    "    ## fix a random trajectory and starting lane to be applied to all agents\n",
    "    common_history = generate_history_CTE(n_steps=1000)\n",
    "    initial_lane = 1+np.random.randint(4)\n",
    "    initial_state = common_history[0]\n",
    "\n",
    "    for agent_name, agent in agents.items():\n",
    "        G = 0\n",
    "        current_lane = deepcopy(initial_lane)\n",
    "        previous_state = deepcopy(initial_state)\n",
    "        action = agent.act(initial_state)     ##### Your agent acts here #####\n",
    "\n",
    "        for i, state in enumerate(common_history[1:]):\n",
    "            adjusted_state, lane, reward = \\\n",
    "                merge(current_lane, previous_state, state[-1], action)\n",
    "\n",
    "            G += reward\n",
    "            previous_state = deepcopy(adjusted_state)\n",
    "            current_lane = deepcopy(lane)\n",
    "            action = agent.act(adjusted_state)   # applied to the next step\n",
    "\n",
    "            if previous_state[-1][0] < 0:   # reached finish point\n",
    "                break\n",
    "\n",
    "        results_CTE[agent_name].append(int(G))\n",
    "\n",
    "\n",
    "### Environment 2 ###\n",
    "for simulation in tqdm(range(500)):\n",
    "    ## fix a random trajectory and starting lane to be applied to all agents\n",
    "    common_history = generate_history_PIE(n_steps=1000)\n",
    "    initial_lane = 1+np.random.randint(4)\n",
    "    initial_state = common_history[0]\n",
    "\n",
    "    for agent_name, agent in agents.items():\n",
    "        G = 0\n",
    "        current_lane = deepcopy(initial_lane)\n",
    "        previous_state = deepcopy(initial_state)\n",
    "        action = agent.act(initial_state)     ##### Your agent acts here #####\n",
    "\n",
    "        for i, state in enumerate(common_history[1:]):\n",
    "            adjusted_state, lane, reward = \\\n",
    "                merge(current_lane, previous_state, state[-1], action)\n",
    "\n",
    "            G += reward\n",
    "            previous_state = deepcopy(adjusted_state)\n",
    "            current_lane = deepcopy(lane)\n",
    "            action = agent.act(adjusted_state)   # applied to the next step\n",
    "\n",
    "            if previous_state[-1][0] < 0:   # reached finish point\n",
    "                break\n",
    "\n",
    "        results_PIE[agent_name].append(int(G))\n",
    "\n",
    "\n",
    "plt.boxplot(results_CTE.values())\n",
    "plt.xticks(range(1, len(results_CTE)+1), results_CTE.keys())\n",
    "plt.show()\n",
    "\n",
    "print([(np.mean(x), np.std(x), np.median(x)) for x in results_CTE.values()])\n",
    "\n",
    "\n",
    "plt.boxplot(results_PIE.values())\n",
    "plt.xticks(range(1, len(results_PIE)+1), results_PIE.keys())\n",
    "plt.show()\n",
    "\n",
    "print([(np.mean(x), np.std(x), np.median(x)) for x in results_PIE.values()])"
   ]
  },
  {
   "cell_type": "code",
   "execution_count": null,
   "metadata": {
    "id": "cyBzV5RgrkoF"
   },
   "outputs": [],
   "source": []
  }
 ],
 "metadata": {
  "colab": {
   "provenance": []
  },
  "kernelspec": {
   "display_name": "Python 3 (ipykernel)",
   "language": "python",
   "name": "python3"
  },
  "language_info": {
   "codemirror_mode": {
    "name": "ipython",
    "version": 3
   },
   "file_extension": ".py",
   "mimetype": "text/x-python",
   "name": "python",
   "nbconvert_exporter": "python",
   "pygments_lexer": "ipython3",
   "version": "3.11.5"
  }
 },
 "nbformat": 4,
 "nbformat_minor": 4
}
